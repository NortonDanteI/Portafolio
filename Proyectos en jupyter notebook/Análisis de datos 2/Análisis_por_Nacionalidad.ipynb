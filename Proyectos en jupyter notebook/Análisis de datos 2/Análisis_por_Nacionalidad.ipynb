{
  "nbformat": 4,
  "nbformat_minor": 0,
  "metadata": {
    "colab": {
      "provenance": [],
      "collapsed_sections": [
        "Rpl1VrzMgYx8",
        "YsaSj1RprCe6",
        "0cy0VPdurPLK",
        "dE3k1Hpfr8ca",
        "sJiC4mWQVskn",
        "-O-wYsJnQww7",
        "ZHacYZXQYNTU",
        "p6GcR9ddAB7O"
      ]
    },
    "kernelspec": {
      "name": "python3",
      "display_name": "Python 3"
    },
    "language_info": {
      "name": "python"
    }
  },
  "cells": [
    {
      "cell_type": "markdown",
      "source": [
        "-----------------------------------------------\n",
        "# **Evaluación técnica para entrevista en desarrolladoresLatam**"
      ],
      "metadata": {
        "id": "zF47aPi3SLpu"
      }
    },
    {
      "cell_type": "markdown",
      "source": [
        "## Criterios de evaluación:\n",
        "\n",
        "- Velocidad de desarrollo.\n",
        "- Simpleza de la solución.\n",
        "- Limpieza y claridad del código.\n",
        "- Comentarios del código.\n",
        "- Apego al modelo.\n",
        "- Extra: creatividad.\n"
      ],
      "metadata": {
        "id": "MBwoSMfyXHkN"
      }
    },
    {
      "cell_type": "markdown",
      "source": [
        "## Objetivos:\n",
        "\n",
        "- Construir un dashboard con 3 gráficos en Python:\n",
        "  - **Diagrama de anillo**; representar visualmente la distribución por sexo.\n",
        "  - **Diagrama de pie**; exhibir la distribución de chilenos y extranjeros.\n",
        "  - **Diagrama de barras**; mostrar visualmente las nacionalidades presentes en los datos."
      ],
      "metadata": {
        "id": "B8zjQy-XX9vl"
      }
    },
    {
      "cell_type": "markdown",
      "source": [
        "## Consideraciones:\n",
        "- El título debe ser Análisis por Nacionalidad.\n",
        "- Incorporar un selector por año.\n",
        "- Utilizar preferentemente las librerías Plotly o Streamlit."
      ],
      "metadata": {
        "id": "Fg-jrzupdOu2"
      }
    },
    {
      "cell_type": "markdown",
      "source": [
        "## Manual :\n",
        "- Utilice el índice para ver las partes que componen el desarrollo de esta prueba técnica.\n",
        "- A grandes rasgos se llevaron a cabo 3 análisis, el resultado se puede observar en **Resultado del análisis**.\n",
        "- Si usted quiere ejecutar el collab recuerde subir el archivo en cuestión que se esta analizando en este ámbito.\n"
      ],
      "metadata": {
        "id": "sZFQHHug0C3i"
      }
    },
    {
      "cell_type": "markdown",
      "source": [
        "-----------------------------------------------\n",
        "# **Análisis por Nacionalidad**"
      ],
      "metadata": {
        "id": "nQ4tTBW-UZX1"
      }
    },
    {
      "cell_type": "markdown",
      "source": [
        "## **Procesamiento primario**"
      ],
      "metadata": {
        "id": "Edt8HDCQYia8"
      }
    },
    {
      "cell_type": "markdown",
      "source": [
        "### **Librerias**"
      ],
      "metadata": {
        "id": "Rpl1VrzMgYx8"
      }
    },
    {
      "cell_type": "markdown",
      "source": [
        "instalacion de streamlit"
      ],
      "metadata": {
        "id": "RgntFU0ChBAa"
      }
    },
    {
      "cell_type": "code",
      "source": [
        "#!pip install streamlit"
      ],
      "metadata": {
        "id": "qytkd-xNg0IZ"
      },
      "execution_count": 181,
      "outputs": []
    },
    {
      "cell_type": "code",
      "source": [
        "!pip install plotly"
      ],
      "metadata": {
        "colab": {
          "base_uri": "https://localhost:8080/"
        },
        "id": "Q5Rj35uIA05i",
        "outputId": "964f0d18-b689-4443-a9f7-11abcf910bf7"
      },
      "execution_count": 182,
      "outputs": [
        {
          "output_type": "stream",
          "name": "stdout",
          "text": [
            "Requirement already satisfied: plotly in /usr/local/lib/python3.10/dist-packages (5.15.0)\n",
            "Requirement already satisfied: tenacity>=6.2.0 in /usr/local/lib/python3.10/dist-packages (from plotly) (8.2.3)\n",
            "Requirement already satisfied: packaging in /usr/local/lib/python3.10/dist-packages (from plotly) (23.2)\n"
          ]
        }
      ]
    },
    {
      "cell_type": "code",
      "source": [
        "!pip install plotly ipywidgets"
      ],
      "metadata": {
        "colab": {
          "base_uri": "https://localhost:8080/"
        },
        "id": "LETxKSC8Gbpj",
        "outputId": "0a68cdcb-8b05-4f45-8032-4e050c001f9b"
      },
      "execution_count": 183,
      "outputs": [
        {
          "output_type": "stream",
          "name": "stdout",
          "text": [
            "Requirement already satisfied: plotly in /usr/local/lib/python3.10/dist-packages (5.15.0)\n",
            "Requirement already satisfied: ipywidgets in /usr/local/lib/python3.10/dist-packages (7.7.1)\n",
            "Requirement already satisfied: tenacity>=6.2.0 in /usr/local/lib/python3.10/dist-packages (from plotly) (8.2.3)\n",
            "Requirement already satisfied: packaging in /usr/local/lib/python3.10/dist-packages (from plotly) (23.2)\n",
            "Requirement already satisfied: ipykernel>=4.5.1 in /usr/local/lib/python3.10/dist-packages (from ipywidgets) (5.5.6)\n",
            "Requirement already satisfied: ipython-genutils~=0.2.0 in /usr/local/lib/python3.10/dist-packages (from ipywidgets) (0.2.0)\n",
            "Requirement already satisfied: traitlets>=4.3.1 in /usr/local/lib/python3.10/dist-packages (from ipywidgets) (5.7.1)\n",
            "Requirement already satisfied: widgetsnbextension~=3.6.0 in /usr/local/lib/python3.10/dist-packages (from ipywidgets) (3.6.6)\n",
            "Requirement already satisfied: ipython>=4.0.0 in /usr/local/lib/python3.10/dist-packages (from ipywidgets) (7.34.0)\n",
            "Requirement already satisfied: jupyterlab-widgets>=1.0.0 in /usr/local/lib/python3.10/dist-packages (from ipywidgets) (3.0.10)\n",
            "Requirement already satisfied: jupyter-client in /usr/local/lib/python3.10/dist-packages (from ipykernel>=4.5.1->ipywidgets) (6.1.12)\n",
            "Requirement already satisfied: tornado>=4.2 in /usr/local/lib/python3.10/dist-packages (from ipykernel>=4.5.1->ipywidgets) (6.3.3)\n",
            "Requirement already satisfied: setuptools>=18.5 in /usr/local/lib/python3.10/dist-packages (from ipython>=4.0.0->ipywidgets) (67.7.2)\n",
            "Requirement already satisfied: jedi>=0.16 in /usr/local/lib/python3.10/dist-packages (from ipython>=4.0.0->ipywidgets) (0.19.1)\n",
            "Requirement already satisfied: decorator in /usr/local/lib/python3.10/dist-packages (from ipython>=4.0.0->ipywidgets) (4.4.2)\n",
            "Requirement already satisfied: pickleshare in /usr/local/lib/python3.10/dist-packages (from ipython>=4.0.0->ipywidgets) (0.7.5)\n",
            "Requirement already satisfied: prompt-toolkit!=3.0.0,!=3.0.1,<3.1.0,>=2.0.0 in /usr/local/lib/python3.10/dist-packages (from ipython>=4.0.0->ipywidgets) (3.0.43)\n",
            "Requirement already satisfied: pygments in /usr/local/lib/python3.10/dist-packages (from ipython>=4.0.0->ipywidgets) (2.16.1)\n",
            "Requirement already satisfied: backcall in /usr/local/lib/python3.10/dist-packages (from ipython>=4.0.0->ipywidgets) (0.2.0)\n",
            "Requirement already satisfied: matplotlib-inline in /usr/local/lib/python3.10/dist-packages (from ipython>=4.0.0->ipywidgets) (0.1.6)\n",
            "Requirement already satisfied: pexpect>4.3 in /usr/local/lib/python3.10/dist-packages (from ipython>=4.0.0->ipywidgets) (4.9.0)\n",
            "Requirement already satisfied: notebook>=4.4.1 in /usr/local/lib/python3.10/dist-packages (from widgetsnbextension~=3.6.0->ipywidgets) (6.5.5)\n",
            "Requirement already satisfied: parso<0.9.0,>=0.8.3 in /usr/local/lib/python3.10/dist-packages (from jedi>=0.16->ipython>=4.0.0->ipywidgets) (0.8.3)\n",
            "Requirement already satisfied: jinja2 in /usr/local/lib/python3.10/dist-packages (from notebook>=4.4.1->widgetsnbextension~=3.6.0->ipywidgets) (3.1.3)\n",
            "Requirement already satisfied: pyzmq<25,>=17 in /usr/local/lib/python3.10/dist-packages (from notebook>=4.4.1->widgetsnbextension~=3.6.0->ipywidgets) (23.2.1)\n",
            "Requirement already satisfied: argon2-cffi in /usr/local/lib/python3.10/dist-packages (from notebook>=4.4.1->widgetsnbextension~=3.6.0->ipywidgets) (23.1.0)\n",
            "Requirement already satisfied: jupyter-core>=4.6.1 in /usr/local/lib/python3.10/dist-packages (from notebook>=4.4.1->widgetsnbextension~=3.6.0->ipywidgets) (5.7.1)\n",
            "Requirement already satisfied: nbformat in /usr/local/lib/python3.10/dist-packages (from notebook>=4.4.1->widgetsnbextension~=3.6.0->ipywidgets) (5.9.2)\n",
            "Requirement already satisfied: nbconvert>=5 in /usr/local/lib/python3.10/dist-packages (from notebook>=4.4.1->widgetsnbextension~=3.6.0->ipywidgets) (6.5.4)\n",
            "Requirement already satisfied: nest-asyncio>=1.5 in /usr/local/lib/python3.10/dist-packages (from notebook>=4.4.1->widgetsnbextension~=3.6.0->ipywidgets) (1.6.0)\n",
            "Requirement already satisfied: Send2Trash>=1.8.0 in /usr/local/lib/python3.10/dist-packages (from notebook>=4.4.1->widgetsnbextension~=3.6.0->ipywidgets) (1.8.2)\n",
            "Requirement already satisfied: terminado>=0.8.3 in /usr/local/lib/python3.10/dist-packages (from notebook>=4.4.1->widgetsnbextension~=3.6.0->ipywidgets) (0.18.0)\n",
            "Requirement already satisfied: prometheus-client in /usr/local/lib/python3.10/dist-packages (from notebook>=4.4.1->widgetsnbextension~=3.6.0->ipywidgets) (0.20.0)\n",
            "Requirement already satisfied: nbclassic>=0.4.7 in /usr/local/lib/python3.10/dist-packages (from notebook>=4.4.1->widgetsnbextension~=3.6.0->ipywidgets) (1.0.0)\n",
            "Requirement already satisfied: python-dateutil>=2.1 in /usr/local/lib/python3.10/dist-packages (from jupyter-client->ipykernel>=4.5.1->ipywidgets) (2.8.2)\n",
            "Requirement already satisfied: ptyprocess>=0.5 in /usr/local/lib/python3.10/dist-packages (from pexpect>4.3->ipython>=4.0.0->ipywidgets) (0.7.0)\n",
            "Requirement already satisfied: wcwidth in /usr/local/lib/python3.10/dist-packages (from prompt-toolkit!=3.0.0,!=3.0.1,<3.1.0,>=2.0.0->ipython>=4.0.0->ipywidgets) (0.2.13)\n",
            "Requirement already satisfied: platformdirs>=2.5 in /usr/local/lib/python3.10/dist-packages (from jupyter-core>=4.6.1->notebook>=4.4.1->widgetsnbextension~=3.6.0->ipywidgets) (4.2.0)\n",
            "Requirement already satisfied: jupyter-server>=1.8 in /usr/local/lib/python3.10/dist-packages (from nbclassic>=0.4.7->notebook>=4.4.1->widgetsnbextension~=3.6.0->ipywidgets) (1.24.0)\n",
            "Requirement already satisfied: notebook-shim>=0.2.3 in /usr/local/lib/python3.10/dist-packages (from nbclassic>=0.4.7->notebook>=4.4.1->widgetsnbextension~=3.6.0->ipywidgets) (0.2.4)\n",
            "Requirement already satisfied: lxml in /usr/local/lib/python3.10/dist-packages (from nbconvert>=5->notebook>=4.4.1->widgetsnbextension~=3.6.0->ipywidgets) (4.9.4)\n",
            "Requirement already satisfied: beautifulsoup4 in /usr/local/lib/python3.10/dist-packages (from nbconvert>=5->notebook>=4.4.1->widgetsnbextension~=3.6.0->ipywidgets) (4.12.3)\n",
            "Requirement already satisfied: bleach in /usr/local/lib/python3.10/dist-packages (from nbconvert>=5->notebook>=4.4.1->widgetsnbextension~=3.6.0->ipywidgets) (6.1.0)\n",
            "Requirement already satisfied: defusedxml in /usr/local/lib/python3.10/dist-packages (from nbconvert>=5->notebook>=4.4.1->widgetsnbextension~=3.6.0->ipywidgets) (0.7.1)\n",
            "Requirement already satisfied: entrypoints>=0.2.2 in /usr/local/lib/python3.10/dist-packages (from nbconvert>=5->notebook>=4.4.1->widgetsnbextension~=3.6.0->ipywidgets) (0.4)\n",
            "Requirement already satisfied: jupyterlab-pygments in /usr/local/lib/python3.10/dist-packages (from nbconvert>=5->notebook>=4.4.1->widgetsnbextension~=3.6.0->ipywidgets) (0.3.0)\n",
            "Requirement already satisfied: MarkupSafe>=2.0 in /usr/local/lib/python3.10/dist-packages (from nbconvert>=5->notebook>=4.4.1->widgetsnbextension~=3.6.0->ipywidgets) (2.1.5)\n",
            "Requirement already satisfied: mistune<2,>=0.8.1 in /usr/local/lib/python3.10/dist-packages (from nbconvert>=5->notebook>=4.4.1->widgetsnbextension~=3.6.0->ipywidgets) (0.8.4)\n",
            "Requirement already satisfied: nbclient>=0.5.0 in /usr/local/lib/python3.10/dist-packages (from nbconvert>=5->notebook>=4.4.1->widgetsnbextension~=3.6.0->ipywidgets) (0.9.0)\n",
            "Requirement already satisfied: pandocfilters>=1.4.1 in /usr/local/lib/python3.10/dist-packages (from nbconvert>=5->notebook>=4.4.1->widgetsnbextension~=3.6.0->ipywidgets) (1.5.1)\n",
            "Requirement already satisfied: tinycss2 in /usr/local/lib/python3.10/dist-packages (from nbconvert>=5->notebook>=4.4.1->widgetsnbextension~=3.6.0->ipywidgets) (1.2.1)\n",
            "Requirement already satisfied: fastjsonschema in /usr/local/lib/python3.10/dist-packages (from nbformat->notebook>=4.4.1->widgetsnbextension~=3.6.0->ipywidgets) (2.19.1)\n",
            "Requirement already satisfied: jsonschema>=2.6 in /usr/local/lib/python3.10/dist-packages (from nbformat->notebook>=4.4.1->widgetsnbextension~=3.6.0->ipywidgets) (4.19.2)\n",
            "Requirement already satisfied: six>=1.5 in /usr/local/lib/python3.10/dist-packages (from python-dateutil>=2.1->jupyter-client->ipykernel>=4.5.1->ipywidgets) (1.16.0)\n",
            "Requirement already satisfied: argon2-cffi-bindings in /usr/local/lib/python3.10/dist-packages (from argon2-cffi->notebook>=4.4.1->widgetsnbextension~=3.6.0->ipywidgets) (21.2.0)\n",
            "Requirement already satisfied: attrs>=22.2.0 in /usr/local/lib/python3.10/dist-packages (from jsonschema>=2.6->nbformat->notebook>=4.4.1->widgetsnbextension~=3.6.0->ipywidgets) (23.2.0)\n",
            "Requirement already satisfied: jsonschema-specifications>=2023.03.6 in /usr/local/lib/python3.10/dist-packages (from jsonschema>=2.6->nbformat->notebook>=4.4.1->widgetsnbextension~=3.6.0->ipywidgets) (2023.12.1)\n",
            "Requirement already satisfied: referencing>=0.28.4 in /usr/local/lib/python3.10/dist-packages (from jsonschema>=2.6->nbformat->notebook>=4.4.1->widgetsnbextension~=3.6.0->ipywidgets) (0.33.0)\n",
            "Requirement already satisfied: rpds-py>=0.7.1 in /usr/local/lib/python3.10/dist-packages (from jsonschema>=2.6->nbformat->notebook>=4.4.1->widgetsnbextension~=3.6.0->ipywidgets) (0.18.0)\n",
            "Requirement already satisfied: anyio<4,>=3.1.0 in /usr/local/lib/python3.10/dist-packages (from jupyter-server>=1.8->nbclassic>=0.4.7->notebook>=4.4.1->widgetsnbextension~=3.6.0->ipywidgets) (3.7.1)\n",
            "Requirement already satisfied: websocket-client in /usr/local/lib/python3.10/dist-packages (from jupyter-server>=1.8->nbclassic>=0.4.7->notebook>=4.4.1->widgetsnbextension~=3.6.0->ipywidgets) (1.7.0)\n",
            "Requirement already satisfied: cffi>=1.0.1 in /usr/local/lib/python3.10/dist-packages (from argon2-cffi-bindings->argon2-cffi->notebook>=4.4.1->widgetsnbextension~=3.6.0->ipywidgets) (1.16.0)\n",
            "Requirement already satisfied: soupsieve>1.2 in /usr/local/lib/python3.10/dist-packages (from beautifulsoup4->nbconvert>=5->notebook>=4.4.1->widgetsnbextension~=3.6.0->ipywidgets) (2.5)\n",
            "Requirement already satisfied: webencodings in /usr/local/lib/python3.10/dist-packages (from bleach->nbconvert>=5->notebook>=4.4.1->widgetsnbextension~=3.6.0->ipywidgets) (0.5.1)\n",
            "Requirement already satisfied: idna>=2.8 in /usr/local/lib/python3.10/dist-packages (from anyio<4,>=3.1.0->jupyter-server>=1.8->nbclassic>=0.4.7->notebook>=4.4.1->widgetsnbextension~=3.6.0->ipywidgets) (3.6)\n",
            "Requirement already satisfied: sniffio>=1.1 in /usr/local/lib/python3.10/dist-packages (from anyio<4,>=3.1.0->jupyter-server>=1.8->nbclassic>=0.4.7->notebook>=4.4.1->widgetsnbextension~=3.6.0->ipywidgets) (1.3.1)\n",
            "Requirement already satisfied: exceptiongroup in /usr/local/lib/python3.10/dist-packages (from anyio<4,>=3.1.0->jupyter-server>=1.8->nbclassic>=0.4.7->notebook>=4.4.1->widgetsnbextension~=3.6.0->ipywidgets) (1.2.0)\n",
            "Requirement already satisfied: pycparser in /usr/local/lib/python3.10/dist-packages (from cffi>=1.0.1->argon2-cffi-bindings->argon2-cffi->notebook>=4.4.1->widgetsnbextension~=3.6.0->ipywidgets) (2.21)\n"
          ]
        }
      ]
    },
    {
      "cell_type": "markdown",
      "source": [
        "Importación de librerias"
      ],
      "metadata": {
        "id": "LYC5yoLRhF4-"
      }
    },
    {
      "cell_type": "code",
      "source": [
        "#import streamlit as st\n",
        "import plotly.graph_objs as go\n",
        "\n",
        "import pandas as pd\n",
        "import matplotlib.pyplot as plt\n",
        "import ipywidgets as widgets\n",
        "from IPython.display import clear_output\n",
        "\n",
        "from google.colab import drive"
      ],
      "metadata": {
        "id": "Po61C_acgZfz"
      },
      "execution_count": 184,
      "outputs": []
    },
    {
      "cell_type": "markdown",
      "source": [
        "### **Montaje**"
      ],
      "metadata": {
        "id": "YsaSj1RprCe6"
      }
    },
    {
      "cell_type": "code",
      "source": [
        "#drive.mount('/content/drive')"
      ],
      "metadata": {
        "id": "bDsPZ1hmkdPS"
      },
      "execution_count": 185,
      "outputs": []
    },
    {
      "cell_type": "markdown",
      "source": [
        "### **Especificación de ruta del archivo**"
      ],
      "metadata": {
        "id": "0cy0VPdurPLK"
      }
    },
    {
      "cell_type": "code",
      "source": [
        "ruta_drive = \"/content/drive/MyDrive/Prueba técnica - desarrolladoresLatam/\"\n",
        "nombre_archivo = \"sexo_pais_random\"\n",
        "extension = \".xlsx\"\n",
        "\n",
        "# Especifico ruta (subida directa) <----- Trabajaremos el collab con la ruta directa.\n",
        "archivo_directo = nombre_archivo + extension\n",
        "\n",
        "# Especifico ruta (desde montaje) <----- Suplente.\n",
        "archivo_montaje = ruta_drive + nombre_archivo + extension\n",
        "\n",
        "# Imprimimos los resultados\n",
        "print(\"Ruta del archivo (subida directa):\", archivo_directo)\n",
        "print(\"Ruta del archivo (desde montaje):\", archivo_montaje)"
      ],
      "metadata": {
        "id": "dfF9c7h_Ui3L",
        "colab": {
          "base_uri": "https://localhost:8080/"
        },
        "outputId": "55eb12ef-43a4-4902-a8c9-b7cfea924663"
      },
      "execution_count": 186,
      "outputs": [
        {
          "output_type": "stream",
          "name": "stdout",
          "text": [
            "Ruta del archivo (subida directa): sexo_pais_random.xlsx\n",
            "Ruta del archivo (desde montaje): /content/drive/MyDrive/Prueba técnica - desarrolladoresLatam/sexo_pais_random.xlsx\n"
          ]
        }
      ]
    },
    {
      "cell_type": "markdown",
      "source": [
        "### **Lectura del archivo**"
      ],
      "metadata": {
        "id": "dE3k1Hpfr8ca"
      }
    },
    {
      "cell_type": "markdown",
      "source": [
        "La primera fila está vacía, por lo que las cabeceras parten de la segunda fila. Luego, filtramos las columnas removiendo 'Pais', ya que es un descriptor pero no forma parte de los países."
      ],
      "metadata": {
        "id": "x6urotIRQ91r"
      }
    },
    {
      "cell_type": "code",
      "source": [
        "# Leemos todas las pestañas del archivo Excel y almacenamos los datos en un diccionario de DataFrames de pandas\n",
        "datos_por_anio = pd.read_excel(archivo_directo, sheet_name=None, header=1, usecols=lambda x: x != 'Pais')"
      ],
      "metadata": {
        "id": "nxjdYQ9VtjzH"
      },
      "execution_count": 187,
      "outputs": []
    },
    {
      "cell_type": "markdown",
      "source": [
        "### **Analísis previo**"
      ],
      "metadata": {
        "id": "sJiC4mWQVskn"
      }
    },
    {
      "cell_type": "markdown",
      "source": [
        "Se obtiene el nombre de las hojas y las columnas de cada hoja de datos del excel"
      ],
      "metadata": {
        "id": "sbyH6tx3WHx2"
      }
    },
    {
      "cell_type": "code",
      "source": [
        "# Inicializamos una lista para almacenar los nombres de las hojas\n",
        "nombres_hojas = []\n",
        "# Mostramos las claves (nombres de las hojas) del diccionario y los nombres de las columnas de cada DataFrame\n",
        "for nombre_hoja, dataframe in datos_por_anio.items():\n",
        "    nombres_hojas.append(nombre_hoja)\n",
        "    print(\"Nombre de la hoja:\", nombre_hoja)\n",
        "    print(\"Nombres de las columnas:\", dataframe.columns.tolist())\n",
        "    print()  # Una línea en blanco para separar las salidas de cada hoja\n",
        "nombres_hojas"
      ],
      "metadata": {
        "colab": {
          "base_uri": "https://localhost:8080/"
        },
        "id": "jM8wCbmJU-rO",
        "outputId": "9eadb070-1ae3-4c80-9f76-074bced1065c"
      },
      "execution_count": 188,
      "outputs": [
        {
          "output_type": "stream",
          "name": "stdout",
          "text": [
            "Nombre de la hoja: 2021\n",
            "Nombres de las columnas: ['Chilena', 'Venezolana', 'Boliviana', 'Colombiana', 'Peruana', 'Haitiana', 'Ecuatoriana', 'Boliviana.1', 'Argentina']\n",
            "\n",
            "Nombre de la hoja: 2022\n",
            "Nombres de las columnas: ['Chilena', 'Venezolana', 'Boliviana', 'Colombiana', 'Peruana', 'Haitiana', 'Ecuatoriana', 'Boliviana.1', 'Argentina']\n",
            "\n",
            "Nombre de la hoja: 2023\n",
            "Nombres de las columnas: ['Chilena', 'Venezolana', 'Boliviana', 'Colombiana', 'Peruana', 'Haitiana', 'Ecuatoriana', 'Boliviana.1', 'Argentina']\n",
            "\n"
          ]
        },
        {
          "output_type": "execute_result",
          "data": {
            "text/plain": [
              "['2021', '2022', '2023']"
            ]
          },
          "metadata": {},
          "execution_count": 188
        }
      ]
    },
    {
      "cell_type": "markdown",
      "source": [
        "Podemos observar que la columna Boliviana esta duplicada por ello es que le asigna Boliviana.1."
      ],
      "metadata": {
        "id": "SV0lPhUhV5Uu"
      }
    },
    {
      "cell_type": "markdown",
      "source": [
        "### **Ajuste de la data**"
      ],
      "metadata": {
        "id": "-O-wYsJnQww7"
      }
    },
    {
      "cell_type": "markdown",
      "source": [
        "Se observa que la nacionalidad boliviana esta duplicada, sin embargo como no se suministro información de si esto es un error no puedo simplemente eliminar la columna con datos ya que esto es una mala práctica. Intuyo que posiblemente es un error y querian referirse a alguna otra nacionalidad por lo que le asignare la etiqueta '**Otra**'."
      ],
      "metadata": {
        "id": "n4OcqOeCSXIp"
      }
    },
    {
      "cell_type": "code",
      "source": [
        "# Cambiamos el nombre de la columna 'Boliviana.1' en todas las hojas del diccionario\n",
        "for nombre_hoja, dataframe in datos_por_anio.items():\n",
        "    datos_por_anio[nombre_hoja] = dataframe.rename(columns={'Boliviana.1': 'Otra'})"
      ],
      "metadata": {
        "id": "Sw1KuSy7U9IO"
      },
      "execution_count": 189,
      "outputs": []
    },
    {
      "cell_type": "markdown",
      "source": [
        "Posteriormente, separamos los datos por año según el nombre de cada hoja."
      ],
      "metadata": {
        "id": "vmlHURggRkF6"
      }
    },
    {
      "cell_type": "code",
      "source": [
        "# Ahora puedes acceder a los DataFrames para cada año directamente con los datos relevantes\n",
        "data_2021 = datos_por_anio[nombres_hojas[0]]\n",
        "data_2022 = datos_por_anio[nombres_hojas[1]]\n",
        "data_2023 = datos_por_anio[nombres_hojas[2]]"
      ],
      "metadata": {
        "id": "7Bz_kALKRmo6"
      },
      "execution_count": 190,
      "outputs": []
    },
    {
      "cell_type": "markdown",
      "source": [
        "### **Vista previa**"
      ],
      "metadata": {
        "id": "j6PkUrGpXClm"
      }
    },
    {
      "cell_type": "code",
      "source": [
        "data_2021.head(10) #.style.hide(axis=\"index\")"
      ],
      "metadata": {
        "colab": {
          "base_uri": "https://localhost:8080/",
          "height": 363
        },
        "id": "c0L7CJXiRq6J",
        "outputId": "b35880f4-2ff6-4351-9d67-7d0c3347c70c"
      },
      "execution_count": 191,
      "outputs": [
        {
          "output_type": "execute_result",
          "data": {
            "text/plain": [
              "   Chilena  Venezolana  Boliviana  Colombiana  Peruana  Haitiana  Ecuatoriana  \\\n",
              "0        0           1          0           0        1         1            0   \n",
              "1        1           1          0           1        1         1            0   \n",
              "2        0           1          0           0        1         0            1   \n",
              "3        1           1          1           1        1         0            0   \n",
              "4        1           1          1           1        0         1            0   \n",
              "5        0           1          0           0        0         1            1   \n",
              "6        0           0          0           1        0         0            0   \n",
              "7        1           1          0           1        0         1            1   \n",
              "8        0           0          1           1        1         1            0   \n",
              "9        0           1          0           1        1         0            0   \n",
              "\n",
              "   Otra  Argentina  \n",
              "0     1          0  \n",
              "1     1          1  \n",
              "2     0          1  \n",
              "3     1          1  \n",
              "4     0          0  \n",
              "5     1          0  \n",
              "6     0          0  \n",
              "7     0          1  \n",
              "8     0          0  \n",
              "9     1          0  "
            ],
            "text/html": [
              "\n",
              "  <div id=\"df-1b14fdb6-9b4d-4a89-924e-0f9f415eeb18\" class=\"colab-df-container\">\n",
              "    <div>\n",
              "<style scoped>\n",
              "    .dataframe tbody tr th:only-of-type {\n",
              "        vertical-align: middle;\n",
              "    }\n",
              "\n",
              "    .dataframe tbody tr th {\n",
              "        vertical-align: top;\n",
              "    }\n",
              "\n",
              "    .dataframe thead th {\n",
              "        text-align: right;\n",
              "    }\n",
              "</style>\n",
              "<table border=\"1\" class=\"dataframe\">\n",
              "  <thead>\n",
              "    <tr style=\"text-align: right;\">\n",
              "      <th></th>\n",
              "      <th>Chilena</th>\n",
              "      <th>Venezolana</th>\n",
              "      <th>Boliviana</th>\n",
              "      <th>Colombiana</th>\n",
              "      <th>Peruana</th>\n",
              "      <th>Haitiana</th>\n",
              "      <th>Ecuatoriana</th>\n",
              "      <th>Otra</th>\n",
              "      <th>Argentina</th>\n",
              "    </tr>\n",
              "  </thead>\n",
              "  <tbody>\n",
              "    <tr>\n",
              "      <th>0</th>\n",
              "      <td>0</td>\n",
              "      <td>1</td>\n",
              "      <td>0</td>\n",
              "      <td>0</td>\n",
              "      <td>1</td>\n",
              "      <td>1</td>\n",
              "      <td>0</td>\n",
              "      <td>1</td>\n",
              "      <td>0</td>\n",
              "    </tr>\n",
              "    <tr>\n",
              "      <th>1</th>\n",
              "      <td>1</td>\n",
              "      <td>1</td>\n",
              "      <td>0</td>\n",
              "      <td>1</td>\n",
              "      <td>1</td>\n",
              "      <td>1</td>\n",
              "      <td>0</td>\n",
              "      <td>1</td>\n",
              "      <td>1</td>\n",
              "    </tr>\n",
              "    <tr>\n",
              "      <th>2</th>\n",
              "      <td>0</td>\n",
              "      <td>1</td>\n",
              "      <td>0</td>\n",
              "      <td>0</td>\n",
              "      <td>1</td>\n",
              "      <td>0</td>\n",
              "      <td>1</td>\n",
              "      <td>0</td>\n",
              "      <td>1</td>\n",
              "    </tr>\n",
              "    <tr>\n",
              "      <th>3</th>\n",
              "      <td>1</td>\n",
              "      <td>1</td>\n",
              "      <td>1</td>\n",
              "      <td>1</td>\n",
              "      <td>1</td>\n",
              "      <td>0</td>\n",
              "      <td>0</td>\n",
              "      <td>1</td>\n",
              "      <td>1</td>\n",
              "    </tr>\n",
              "    <tr>\n",
              "      <th>4</th>\n",
              "      <td>1</td>\n",
              "      <td>1</td>\n",
              "      <td>1</td>\n",
              "      <td>1</td>\n",
              "      <td>0</td>\n",
              "      <td>1</td>\n",
              "      <td>0</td>\n",
              "      <td>0</td>\n",
              "      <td>0</td>\n",
              "    </tr>\n",
              "    <tr>\n",
              "      <th>5</th>\n",
              "      <td>0</td>\n",
              "      <td>1</td>\n",
              "      <td>0</td>\n",
              "      <td>0</td>\n",
              "      <td>0</td>\n",
              "      <td>1</td>\n",
              "      <td>1</td>\n",
              "      <td>1</td>\n",
              "      <td>0</td>\n",
              "    </tr>\n",
              "    <tr>\n",
              "      <th>6</th>\n",
              "      <td>0</td>\n",
              "      <td>0</td>\n",
              "      <td>0</td>\n",
              "      <td>1</td>\n",
              "      <td>0</td>\n",
              "      <td>0</td>\n",
              "      <td>0</td>\n",
              "      <td>0</td>\n",
              "      <td>0</td>\n",
              "    </tr>\n",
              "    <tr>\n",
              "      <th>7</th>\n",
              "      <td>1</td>\n",
              "      <td>1</td>\n",
              "      <td>0</td>\n",
              "      <td>1</td>\n",
              "      <td>0</td>\n",
              "      <td>1</td>\n",
              "      <td>1</td>\n",
              "      <td>0</td>\n",
              "      <td>1</td>\n",
              "    </tr>\n",
              "    <tr>\n",
              "      <th>8</th>\n",
              "      <td>0</td>\n",
              "      <td>0</td>\n",
              "      <td>1</td>\n",
              "      <td>1</td>\n",
              "      <td>1</td>\n",
              "      <td>1</td>\n",
              "      <td>0</td>\n",
              "      <td>0</td>\n",
              "      <td>0</td>\n",
              "    </tr>\n",
              "    <tr>\n",
              "      <th>9</th>\n",
              "      <td>0</td>\n",
              "      <td>1</td>\n",
              "      <td>0</td>\n",
              "      <td>1</td>\n",
              "      <td>1</td>\n",
              "      <td>0</td>\n",
              "      <td>0</td>\n",
              "      <td>1</td>\n",
              "      <td>0</td>\n",
              "    </tr>\n",
              "  </tbody>\n",
              "</table>\n",
              "</div>\n",
              "    <div class=\"colab-df-buttons\">\n",
              "\n",
              "  <div class=\"colab-df-container\">\n",
              "    <button class=\"colab-df-convert\" onclick=\"convertToInteractive('df-1b14fdb6-9b4d-4a89-924e-0f9f415eeb18')\"\n",
              "            title=\"Convert this dataframe to an interactive table.\"\n",
              "            style=\"display:none;\">\n",
              "\n",
              "  <svg xmlns=\"http://www.w3.org/2000/svg\" height=\"24px\" viewBox=\"0 -960 960 960\">\n",
              "    <path d=\"M120-120v-720h720v720H120Zm60-500h600v-160H180v160Zm220 220h160v-160H400v160Zm0 220h160v-160H400v160ZM180-400h160v-160H180v160Zm440 0h160v-160H620v160ZM180-180h160v-160H180v160Zm440 0h160v-160H620v160Z\"/>\n",
              "  </svg>\n",
              "    </button>\n",
              "\n",
              "  <style>\n",
              "    .colab-df-container {\n",
              "      display:flex;\n",
              "      gap: 12px;\n",
              "    }\n",
              "\n",
              "    .colab-df-convert {\n",
              "      background-color: #E8F0FE;\n",
              "      border: none;\n",
              "      border-radius: 50%;\n",
              "      cursor: pointer;\n",
              "      display: none;\n",
              "      fill: #1967D2;\n",
              "      height: 32px;\n",
              "      padding: 0 0 0 0;\n",
              "      width: 32px;\n",
              "    }\n",
              "\n",
              "    .colab-df-convert:hover {\n",
              "      background-color: #E2EBFA;\n",
              "      box-shadow: 0px 1px 2px rgba(60, 64, 67, 0.3), 0px 1px 3px 1px rgba(60, 64, 67, 0.15);\n",
              "      fill: #174EA6;\n",
              "    }\n",
              "\n",
              "    .colab-df-buttons div {\n",
              "      margin-bottom: 4px;\n",
              "    }\n",
              "\n",
              "    [theme=dark] .colab-df-convert {\n",
              "      background-color: #3B4455;\n",
              "      fill: #D2E3FC;\n",
              "    }\n",
              "\n",
              "    [theme=dark] .colab-df-convert:hover {\n",
              "      background-color: #434B5C;\n",
              "      box-shadow: 0px 1px 3px 1px rgba(0, 0, 0, 0.15);\n",
              "      filter: drop-shadow(0px 1px 2px rgba(0, 0, 0, 0.3));\n",
              "      fill: #FFFFFF;\n",
              "    }\n",
              "  </style>\n",
              "\n",
              "    <script>\n",
              "      const buttonEl =\n",
              "        document.querySelector('#df-1b14fdb6-9b4d-4a89-924e-0f9f415eeb18 button.colab-df-convert');\n",
              "      buttonEl.style.display =\n",
              "        google.colab.kernel.accessAllowed ? 'block' : 'none';\n",
              "\n",
              "      async function convertToInteractive(key) {\n",
              "        const element = document.querySelector('#df-1b14fdb6-9b4d-4a89-924e-0f9f415eeb18');\n",
              "        const dataTable =\n",
              "          await google.colab.kernel.invokeFunction('convertToInteractive',\n",
              "                                                    [key], {});\n",
              "        if (!dataTable) return;\n",
              "\n",
              "        const docLinkHtml = 'Like what you see? Visit the ' +\n",
              "          '<a target=\"_blank\" href=https://colab.research.google.com/notebooks/data_table.ipynb>data table notebook</a>'\n",
              "          + ' to learn more about interactive tables.';\n",
              "        element.innerHTML = '';\n",
              "        dataTable['output_type'] = 'display_data';\n",
              "        await google.colab.output.renderOutput(dataTable, element);\n",
              "        const docLink = document.createElement('div');\n",
              "        docLink.innerHTML = docLinkHtml;\n",
              "        element.appendChild(docLink);\n",
              "      }\n",
              "    </script>\n",
              "  </div>\n",
              "\n",
              "\n",
              "<div id=\"df-180ad595-a4f9-4078-b9b2-5e0ecdb17a3b\">\n",
              "  <button class=\"colab-df-quickchart\" onclick=\"quickchart('df-180ad595-a4f9-4078-b9b2-5e0ecdb17a3b')\"\n",
              "            title=\"Suggest charts\"\n",
              "            style=\"display:none;\">\n",
              "\n",
              "<svg xmlns=\"http://www.w3.org/2000/svg\" height=\"24px\"viewBox=\"0 0 24 24\"\n",
              "     width=\"24px\">\n",
              "    <g>\n",
              "        <path d=\"M19 3H5c-1.1 0-2 .9-2 2v14c0 1.1.9 2 2 2h14c1.1 0 2-.9 2-2V5c0-1.1-.9-2-2-2zM9 17H7v-7h2v7zm4 0h-2V7h2v10zm4 0h-2v-4h2v4z\"/>\n",
              "    </g>\n",
              "</svg>\n",
              "  </button>\n",
              "\n",
              "<style>\n",
              "  .colab-df-quickchart {\n",
              "      --bg-color: #E8F0FE;\n",
              "      --fill-color: #1967D2;\n",
              "      --hover-bg-color: #E2EBFA;\n",
              "      --hover-fill-color: #174EA6;\n",
              "      --disabled-fill-color: #AAA;\n",
              "      --disabled-bg-color: #DDD;\n",
              "  }\n",
              "\n",
              "  [theme=dark] .colab-df-quickchart {\n",
              "      --bg-color: #3B4455;\n",
              "      --fill-color: #D2E3FC;\n",
              "      --hover-bg-color: #434B5C;\n",
              "      --hover-fill-color: #FFFFFF;\n",
              "      --disabled-bg-color: #3B4455;\n",
              "      --disabled-fill-color: #666;\n",
              "  }\n",
              "\n",
              "  .colab-df-quickchart {\n",
              "    background-color: var(--bg-color);\n",
              "    border: none;\n",
              "    border-radius: 50%;\n",
              "    cursor: pointer;\n",
              "    display: none;\n",
              "    fill: var(--fill-color);\n",
              "    height: 32px;\n",
              "    padding: 0;\n",
              "    width: 32px;\n",
              "  }\n",
              "\n",
              "  .colab-df-quickchart:hover {\n",
              "    background-color: var(--hover-bg-color);\n",
              "    box-shadow: 0 1px 2px rgba(60, 64, 67, 0.3), 0 1px 3px 1px rgba(60, 64, 67, 0.15);\n",
              "    fill: var(--button-hover-fill-color);\n",
              "  }\n",
              "\n",
              "  .colab-df-quickchart-complete:disabled,\n",
              "  .colab-df-quickchart-complete:disabled:hover {\n",
              "    background-color: var(--disabled-bg-color);\n",
              "    fill: var(--disabled-fill-color);\n",
              "    box-shadow: none;\n",
              "  }\n",
              "\n",
              "  .colab-df-spinner {\n",
              "    border: 2px solid var(--fill-color);\n",
              "    border-color: transparent;\n",
              "    border-bottom-color: var(--fill-color);\n",
              "    animation:\n",
              "      spin 1s steps(1) infinite;\n",
              "  }\n",
              "\n",
              "  @keyframes spin {\n",
              "    0% {\n",
              "      border-color: transparent;\n",
              "      border-bottom-color: var(--fill-color);\n",
              "      border-left-color: var(--fill-color);\n",
              "    }\n",
              "    20% {\n",
              "      border-color: transparent;\n",
              "      border-left-color: var(--fill-color);\n",
              "      border-top-color: var(--fill-color);\n",
              "    }\n",
              "    30% {\n",
              "      border-color: transparent;\n",
              "      border-left-color: var(--fill-color);\n",
              "      border-top-color: var(--fill-color);\n",
              "      border-right-color: var(--fill-color);\n",
              "    }\n",
              "    40% {\n",
              "      border-color: transparent;\n",
              "      border-right-color: var(--fill-color);\n",
              "      border-top-color: var(--fill-color);\n",
              "    }\n",
              "    60% {\n",
              "      border-color: transparent;\n",
              "      border-right-color: var(--fill-color);\n",
              "    }\n",
              "    80% {\n",
              "      border-color: transparent;\n",
              "      border-right-color: var(--fill-color);\n",
              "      border-bottom-color: var(--fill-color);\n",
              "    }\n",
              "    90% {\n",
              "      border-color: transparent;\n",
              "      border-bottom-color: var(--fill-color);\n",
              "    }\n",
              "  }\n",
              "</style>\n",
              "\n",
              "  <script>\n",
              "    async function quickchart(key) {\n",
              "      const quickchartButtonEl =\n",
              "        document.querySelector('#' + key + ' button');\n",
              "      quickchartButtonEl.disabled = true;  // To prevent multiple clicks.\n",
              "      quickchartButtonEl.classList.add('colab-df-spinner');\n",
              "      try {\n",
              "        const charts = await google.colab.kernel.invokeFunction(\n",
              "            'suggestCharts', [key], {});\n",
              "      } catch (error) {\n",
              "        console.error('Error during call to suggestCharts:', error);\n",
              "      }\n",
              "      quickchartButtonEl.classList.remove('colab-df-spinner');\n",
              "      quickchartButtonEl.classList.add('colab-df-quickchart-complete');\n",
              "    }\n",
              "    (() => {\n",
              "      let quickchartButtonEl =\n",
              "        document.querySelector('#df-180ad595-a4f9-4078-b9b2-5e0ecdb17a3b button');\n",
              "      quickchartButtonEl.style.display =\n",
              "        google.colab.kernel.accessAllowed ? 'block' : 'none';\n",
              "    })();\n",
              "  </script>\n",
              "</div>\n",
              "\n",
              "    </div>\n",
              "  </div>\n"
            ],
            "application/vnd.google.colaboratory.intrinsic+json": {
              "type": "dataframe",
              "variable_name": "data_2021",
              "summary": "{\n  \"name\": \"data_2021\",\n  \"rows\": 498,\n  \"fields\": [\n    {\n      \"column\": \"Chilena\",\n      \"properties\": {\n        \"dtype\": \"number\",\n        \"std\": 0,\n        \"min\": 0,\n        \"max\": 1,\n        \"num_unique_values\": 2,\n        \"samples\": [\n          1,\n          0\n        ],\n        \"semantic_type\": \"\",\n        \"description\": \"\"\n      }\n    },\n    {\n      \"column\": \"Venezolana\",\n      \"properties\": {\n        \"dtype\": \"number\",\n        \"std\": 0,\n        \"min\": 0,\n        \"max\": 1,\n        \"num_unique_values\": 2,\n        \"samples\": [\n          0,\n          1\n        ],\n        \"semantic_type\": \"\",\n        \"description\": \"\"\n      }\n    },\n    {\n      \"column\": \"Boliviana\",\n      \"properties\": {\n        \"dtype\": \"number\",\n        \"std\": 0,\n        \"min\": 0,\n        \"max\": 1,\n        \"num_unique_values\": 2,\n        \"samples\": [\n          1,\n          0\n        ],\n        \"semantic_type\": \"\",\n        \"description\": \"\"\n      }\n    },\n    {\n      \"column\": \"Colombiana\",\n      \"properties\": {\n        \"dtype\": \"number\",\n        \"std\": 0,\n        \"min\": 0,\n        \"max\": 1,\n        \"num_unique_values\": 2,\n        \"samples\": [\n          1,\n          0\n        ],\n        \"semantic_type\": \"\",\n        \"description\": \"\"\n      }\n    },\n    {\n      \"column\": \"Peruana\",\n      \"properties\": {\n        \"dtype\": \"number\",\n        \"std\": 0,\n        \"min\": 0,\n        \"max\": 1,\n        \"num_unique_values\": 2,\n        \"samples\": [\n          0,\n          1\n        ],\n        \"semantic_type\": \"\",\n        \"description\": \"\"\n      }\n    },\n    {\n      \"column\": \"Haitiana\",\n      \"properties\": {\n        \"dtype\": \"number\",\n        \"std\": 0,\n        \"min\": 0,\n        \"max\": 1,\n        \"num_unique_values\": 2,\n        \"samples\": [\n          0,\n          1\n        ],\n        \"semantic_type\": \"\",\n        \"description\": \"\"\n      }\n    },\n    {\n      \"column\": \"Ecuatoriana\",\n      \"properties\": {\n        \"dtype\": \"number\",\n        \"std\": 0,\n        \"min\": 0,\n        \"max\": 1,\n        \"num_unique_values\": 2,\n        \"samples\": [\n          1,\n          0\n        ],\n        \"semantic_type\": \"\",\n        \"description\": \"\"\n      }\n    },\n    {\n      \"column\": \"Otra\",\n      \"properties\": {\n        \"dtype\": \"number\",\n        \"std\": 0,\n        \"min\": 0,\n        \"max\": 1,\n        \"num_unique_values\": 2,\n        \"samples\": [\n          0,\n          1\n        ],\n        \"semantic_type\": \"\",\n        \"description\": \"\"\n      }\n    },\n    {\n      \"column\": \"Argentina\",\n      \"properties\": {\n        \"dtype\": \"number\",\n        \"std\": 0,\n        \"min\": 0,\n        \"max\": 1,\n        \"num_unique_values\": 2,\n        \"samples\": [\n          1,\n          0\n        ],\n        \"semantic_type\": \"\",\n        \"description\": \"\"\n      }\n    }\n  ]\n}"
            }
          },
          "metadata": {},
          "execution_count": 191
        }
      ]
    },
    {
      "cell_type": "code",
      "source": [
        "print(data_2021.size)"
      ],
      "metadata": {
        "colab": {
          "base_uri": "https://localhost:8080/"
        },
        "id": "rb7oyXXkbXap",
        "outputId": "9cd7ccd4-4dc4-48d7-de42-468199822d32"
      },
      "execution_count": 192,
      "outputs": [
        {
          "output_type": "stream",
          "name": "stdout",
          "text": [
            "4482\n"
          ]
        }
      ]
    },
    {
      "cell_type": "markdown",
      "source": [
        "-----------------------------------------------\n",
        "## **Análisis 1**"
      ],
      "metadata": {
        "id": "gK6rEauZW_D9"
      }
    },
    {
      "cell_type": "markdown",
      "source": [
        "### **Planteamiento**"
      ],
      "metadata": {
        "id": "PCGrDbO2Xb6c"
      }
    },
    {
      "cell_type": "markdown",
      "source": [
        "**Actividad y pasos**\n",
        "\n",
        "1. Representar visualmente la distribución por sexo mediante un diagrama de anillo.\n",
        "  *   Obtener el número de hombres totales.\n",
        "  *   Obtener el número de mujeres totales.\n",
        "  *   Incoporar selector por año."
      ],
      "metadata": {
        "id": "Ta1y09vFXfit"
      }
    },
    {
      "cell_type": "markdown",
      "source": [
        "### **Procesamiento de los datos**"
      ],
      "metadata": {
        "id": "ZHacYZXQYNTU"
      }
    },
    {
      "cell_type": "markdown",
      "source": [
        "Considerando que no se suministro la información, de si los valores 0 correspondian a Masculino o a Femenino. En este caso tomare el atrevimiento de asumir que 0 corresponde a Femenino y 1 a Masculino. Es decir **0 = Femenino; 1 = Masculino**."
      ],
      "metadata": {
        "id": "TRoh0aRaZcZy"
      }
    },
    {
      "cell_type": "markdown",
      "source": [
        "Primero verificamos si tiene registros sin datos."
      ],
      "metadata": {
        "id": "JSyBd39lcKrN"
      }
    },
    {
      "cell_type": "code",
      "source": [
        "# Iterar sobre cada DataFrame en el diccionario datos_por_anio\n",
        "for nombre_hoja, dataframe in datos_por_anio.items():\n",
        "    # Verificar si hay valores nulos en el DataFrame actual\n",
        "    if dataframe.isnull().values.any():\n",
        "        print(\"El DataFrame\", nombre_hoja, \"contiene valores nulos.\")\n",
        "    else:\n",
        "        # Calcular y mostrar el tamaño total del DataFrame si no hay valores nulos\n",
        "        print(\"El tamaño total del DataFrame\", nombre_hoja, \"es:\", dataframe.size)\n"
      ],
      "metadata": {
        "colab": {
          "base_uri": "https://localhost:8080/"
        },
        "id": "iC5FECB4b2JI",
        "outputId": "f4d03fbc-bc3a-4e80-ff06-6ac4134ddf63"
      },
      "execution_count": 193,
      "outputs": [
        {
          "output_type": "stream",
          "name": "stdout",
          "text": [
            "El tamaño total del DataFrame 2021 es: 4482\n",
            "El tamaño total del DataFrame 2022 es: 4482\n",
            "El tamaño total del DataFrame 2023 es: 4482\n"
          ]
        }
      ]
    },
    {
      "cell_type": "markdown",
      "source": [
        "Una vez hecha esa verificación, obtenemos la cantidad de personas de sexo femenino y masculino por año."
      ],
      "metadata": {
        "id": "HW2wiL4qcPMp"
      }
    },
    {
      "cell_type": "code",
      "source": [
        "\n",
        "# Inicializa listas para almacenar los totales de hombres y mujeres\n",
        "lista_total_masculino = []\n",
        "lista_total_femenino = []\n",
        "\n",
        "# Recorre el diccionario y los DataFrames\n",
        "for nombre_hoja, dataframe in datos_por_anio.items():\n",
        "    # Calcula el total de hombres y mujeres en el DataFrame actual\n",
        "    total_masculino = (dataframe == 1).sum().sum()\n",
        "    total_femenino = (dataframe == 0).sum().sum()\n",
        "\n",
        "    # Agrega los totales a las listas respectivas\n",
        "    lista_total_masculino.append(total_masculino)\n",
        "    lista_total_femenino.append(total_femenino)\n",
        "\n",
        "# Imprime las listas de totales\n",
        "print(\"Lista de totales de hombres:\", lista_total_masculino)\n",
        "print(\"Lista de totales de mujeres:\", lista_total_femenino)"
      ],
      "metadata": {
        "colab": {
          "base_uri": "https://localhost:8080/"
        },
        "id": "4cDTYYlUYOTk",
        "outputId": "628a7695-865f-4582-8e34-61d493a06118"
      },
      "execution_count": 194,
      "outputs": [
        {
          "output_type": "stream",
          "name": "stdout",
          "text": [
            "Lista de totales de hombres: [2206, 2222, 2192]\n",
            "Lista de totales de mujeres: [2276, 2260, 2290]\n"
          ]
        }
      ]
    },
    {
      "cell_type": "markdown",
      "source": [
        "### **Resultado del análisis**"
      ],
      "metadata": {
        "id": "bfKdMnfj_eNy"
      }
    },
    {
      "cell_type": "code",
      "source": [
        "#import plotly.graph_objects as pl\n",
        "\n",
        "# Creación de las etiquetas con el número total de personas para cada año\n",
        "etiquetas_2021 = [f'Masculino ({lista_total_masculino[0]} personas)', f'Femenino ({lista_total_femenino[0]} personas)']\n",
        "etiquetas_2022 = [f'Masculino ({lista_total_masculino[1]} personas)', f'Femenino ({lista_total_femenino[1]} personas)']\n",
        "etiquetas_2023 = [f'Masculino ({lista_total_masculino[2]} personas)', f'Femenino ({lista_total_femenino[2]} personas)']\n",
        "\n",
        "# Creación de la figura con un gráfico circular (pie chart)\n",
        "fig = go.Figure(data=[\n",
        "    go.Pie(labels=etiquetas_2021, values=[lista_total_masculino[0],lista_total_femenino[0]], hole=0.6, name='2021'),\n",
        "    go.Pie(labels=etiquetas_2022, values=[lista_total_masculino[1],lista_total_femenino[1]], hole=0.6, name='2022', visible=False),\n",
        "    go.Pie(labels=etiquetas_2023, values=[lista_total_masculino[2],lista_total_femenino[2]], hole=0.6, name='2023', visible=False)\n",
        "])\n",
        "\n",
        "# Especificar los colores\n",
        "fig.update_traces(marker=dict(colors=['blue', 'pink']))\n",
        "\n",
        "# Configuración del diseño del gráfico\n",
        "fig.update_layout(\n",
        "    title='Distribución por Sexo año 2021',\n",
        "    showlegend=True,\n",
        "    width=700,  # Ancho del gráfico\n",
        "    height=500,  # Alto del gráfico\n",
        "    title_x=0.4,  # Posición horizontal del título (0.5 es el centro)\n",
        "    title_y=0.9,  # Posición vertical del título (0.9 está más cerca del borde superior)\n",
        ")\n",
        "\n",
        "# Agregar un menú desplegable\n",
        "fig.update_layout(updatemenus=[dict(active=0,buttons=list(\n",
        "    [dict(label=\"2021\", method=\"update\",\n",
        "      args=[{\"visible\": [True, False, False]}, {\"title\": \"Distribución por Sexo año 2021\"}]),\n",
        "    dict(label=\"2022\", method=\"update\",\n",
        "      args=[{\"visible\": [False, True, False]}, {\"title\": \"Distribución por Sexo año 2022\"}]),\n",
        "    dict(label=\"2023\", method=\"update\",\n",
        "      args=[{\"visible\": [False, False, True]}, {\"title\": \"Distribución por Sexo año 2023\"}]),\n",
        "     ]),\n",
        ")])\n",
        "\n",
        "fig.show()"
      ],
      "metadata": {
        "colab": {
          "base_uri": "https://localhost:8080/",
          "height": 517
        },
        "id": "FqkyeG9RUYiX",
        "outputId": "930c2b35-8637-490a-ca8a-be4c0b214cf7"
      },
      "execution_count": 195,
      "outputs": [
        {
          "output_type": "display_data",
          "data": {
            "text/html": [
              "<html>\n",
              "<head><meta charset=\"utf-8\" /></head>\n",
              "<body>\n",
              "    <div>            <script src=\"https://cdnjs.cloudflare.com/ajax/libs/mathjax/2.7.5/MathJax.js?config=TeX-AMS-MML_SVG\"></script><script type=\"text/javascript\">if (window.MathJax && window.MathJax.Hub && window.MathJax.Hub.Config) {window.MathJax.Hub.Config({SVG: {font: \"STIX-Web\"}});}</script>                <script type=\"text/javascript\">window.PlotlyConfig = {MathJaxConfig: 'local'};</script>\n",
              "        <script charset=\"utf-8\" src=\"https://cdn.plot.ly/plotly-2.24.1.min.js\"></script>                <div id=\"48866231-a902-475e-8e0d-71e9bdad4197\" class=\"plotly-graph-div\" style=\"height:500px; width:700px;\"></div>            <script type=\"text/javascript\">                                    window.PLOTLYENV=window.PLOTLYENV || {};                                    if (document.getElementById(\"48866231-a902-475e-8e0d-71e9bdad4197\")) {                    Plotly.newPlot(                        \"48866231-a902-475e-8e0d-71e9bdad4197\",                        [{\"hole\":0.6,\"labels\":[\"Masculino (2206 personas)\",\"Femenino (2276 personas)\"],\"name\":\"2021\",\"values\":[2206,2276],\"type\":\"pie\",\"marker\":{\"colors\":[\"blue\",\"pink\"]}},{\"hole\":0.6,\"labels\":[\"Masculino (2222 personas)\",\"Femenino (2260 personas)\"],\"name\":\"2022\",\"values\":[2222,2260],\"visible\":false,\"type\":\"pie\",\"marker\":{\"colors\":[\"blue\",\"pink\"]}},{\"hole\":0.6,\"labels\":[\"Masculino (2192 personas)\",\"Femenino (2290 personas)\"],\"name\":\"2023\",\"values\":[2192,2290],\"visible\":false,\"type\":\"pie\",\"marker\":{\"colors\":[\"blue\",\"pink\"]}}],                        {\"template\":{\"data\":{\"candlestick\":[{\"decreasing\":{\"line\":{\"color\":\"#000033\"}},\"increasing\":{\"line\":{\"color\":\"#000032\"}},\"type\":\"candlestick\"}],\"contourcarpet\":[{\"colorscale\":[[0.0,\"#000011\"],[0.1111111111111111,\"#000012\"],[0.2222222222222222,\"#000013\"],[0.3333333333333333,\"#000014\"],[0.4444444444444444,\"#000015\"],[0.5555555555555556,\"#000016\"],[0.6666666666666666,\"#000017\"],[0.7777777777777778,\"#000018\"],[0.8888888888888888,\"#000019\"],[1.0,\"#000020\"]],\"type\":\"contourcarpet\"}],\"contour\":[{\"colorscale\":[[0.0,\"#000011\"],[0.1111111111111111,\"#000012\"],[0.2222222222222222,\"#000013\"],[0.3333333333333333,\"#000014\"],[0.4444444444444444,\"#000015\"],[0.5555555555555556,\"#000016\"],[0.6666666666666666,\"#000017\"],[0.7777777777777778,\"#000018\"],[0.8888888888888888,\"#000019\"],[1.0,\"#000020\"]],\"type\":\"contour\"}],\"heatmap\":[{\"colorscale\":[[0.0,\"#000011\"],[0.1111111111111111,\"#000012\"],[0.2222222222222222,\"#000013\"],[0.3333333333333333,\"#000014\"],[0.4444444444444444,\"#000015\"],[0.5555555555555556,\"#000016\"],[0.6666666666666666,\"#000017\"],[0.7777777777777778,\"#000018\"],[0.8888888888888888,\"#000019\"],[1.0,\"#000020\"]],\"type\":\"heatmap\"}],\"histogram2d\":[{\"colorscale\":[[0.0,\"#000011\"],[0.1111111111111111,\"#000012\"],[0.2222222222222222,\"#000013\"],[0.3333333333333333,\"#000014\"],[0.4444444444444444,\"#000015\"],[0.5555555555555556,\"#000016\"],[0.6666666666666666,\"#000017\"],[0.7777777777777778,\"#000018\"],[0.8888888888888888,\"#000019\"],[1.0,\"#000020\"]],\"type\":\"histogram2d\"}],\"icicle\":[{\"textfont\":{\"color\":\"white\"},\"type\":\"icicle\"}],\"sankey\":[{\"textfont\":{\"color\":\"#000036\"},\"type\":\"sankey\"}],\"scatter\":[{\"marker\":{\"line\":{\"width\":0}},\"type\":\"scatter\"}],\"table\":[{\"cells\":{\"fill\":{\"color\":\"#000038\"},\"font\":{\"color\":\"#000037\"},\"line\":{\"color\":\"#000039\"}},\"header\":{\"fill\":{\"color\":\"#000040\"},\"font\":{\"color\":\"#000036\"},\"line\":{\"color\":\"#000039\"}},\"type\":\"table\"}],\"waterfall\":[{\"connector\":{\"line\":{\"color\":\"#000036\",\"width\":2}},\"decreasing\":{\"marker\":{\"color\":\"#000033\"}},\"increasing\":{\"marker\":{\"color\":\"#000032\"}},\"totals\":{\"marker\":{\"color\":\"#000034\"}},\"type\":\"waterfall\"}]},\"layout\":{\"coloraxis\":{\"colorscale\":[[0.0,\"#000011\"],[0.1111111111111111,\"#000012\"],[0.2222222222222222,\"#000013\"],[0.3333333333333333,\"#000014\"],[0.4444444444444444,\"#000015\"],[0.5555555555555556,\"#000016\"],[0.6666666666666666,\"#000017\"],[0.7777777777777778,\"#000018\"],[0.8888888888888888,\"#000019\"],[1.0,\"#000020\"]]},\"colorscale\":{\"diverging\":[[0.0,\"#000021\"],[0.1,\"#000022\"],[0.2,\"#000023\"],[0.3,\"#000024\"],[0.4,\"#000025\"],[0.5,\"#000026\"],[0.6,\"#000027\"],[0.7,\"#000028\"],[0.8,\"#000029\"],[0.9,\"#000030\"],[1.0,\"#000031\"]],\"sequential\":[[0.0,\"#000011\"],[0.1111111111111111,\"#000012\"],[0.2222222222222222,\"#000013\"],[0.3333333333333333,\"#000014\"],[0.4444444444444444,\"#000015\"],[0.5555555555555556,\"#000016\"],[0.6666666666666666,\"#000017\"],[0.7777777777777778,\"#000018\"],[0.8888888888888888,\"#000019\"],[1.0,\"#000020\"]],\"sequentialminus\":[[0.0,\"#000011\"],[0.1111111111111111,\"#000012\"],[0.2222222222222222,\"#000013\"],[0.3333333333333333,\"#000014\"],[0.4444444444444444,\"#000015\"],[0.5555555555555556,\"#000016\"],[0.6666666666666666,\"#000017\"],[0.7777777777777778,\"#000018\"],[0.8888888888888888,\"#000019\"],[1.0,\"#000020\"]]},\"colorway\":[\"#000001\",\"#000002\",\"#000003\",\"#000004\",\"#000005\",\"#000006\",\"#000007\",\"#000008\",\"#000009\",\"#000010\"]}},\"title\":{\"text\":\"Distribuci\\u00f3n por Sexo a\\u00f1o 2021\",\"x\":0.4,\"y\":0.9},\"showlegend\":true,\"width\":700,\"height\":500,\"updatemenus\":[{\"active\":0,\"buttons\":[{\"args\":[{\"visible\":[true,false,false]},{\"title\":\"Distribuci\\u00f3n por Sexo a\\u00f1o 2021\"}],\"label\":\"2021\",\"method\":\"update\"},{\"args\":[{\"visible\":[false,true,false]},{\"title\":\"Distribuci\\u00f3n por Sexo a\\u00f1o 2022\"}],\"label\":\"2022\",\"method\":\"update\"},{\"args\":[{\"visible\":[false,false,true]},{\"title\":\"Distribuci\\u00f3n por Sexo a\\u00f1o 2023\"}],\"label\":\"2023\",\"method\":\"update\"}]}]},                        {\"responsive\": true}                    ).then(function(){\n",
              "                            \n",
              "var gd = document.getElementById('48866231-a902-475e-8e0d-71e9bdad4197');\n",
              "var x = new MutationObserver(function (mutations, observer) {{\n",
              "        var display = window.getComputedStyle(gd).display;\n",
              "        if (!display || display === 'none') {{\n",
              "            console.log([gd, 'removed!']);\n",
              "            Plotly.purge(gd);\n",
              "            observer.disconnect();\n",
              "        }}\n",
              "}});\n",
              "\n",
              "// Listen for the removal of the full notebook cells\n",
              "var notebookContainer = gd.closest('#notebook-container');\n",
              "if (notebookContainer) {{\n",
              "    x.observe(notebookContainer, {childList: true});\n",
              "}}\n",
              "\n",
              "// Listen for the clearing of the current output cell\n",
              "var outputEl = gd.closest('.output');\n",
              "if (outputEl) {{\n",
              "    x.observe(outputEl, {childList: true});\n",
              "}}\n",
              "\n",
              "                        })                };                            </script>        </div>\n",
              "</body>\n",
              "</html>"
            ]
          },
          "metadata": {}
        }
      ]
    },
    {
      "cell_type": "markdown",
      "source": [
        "-----------------------------------------------\n",
        "## **Análisis 2**"
      ],
      "metadata": {
        "id": "xlj4C8XB_wyR"
      }
    },
    {
      "cell_type": "markdown",
      "source": [
        "### **Planteamiento**"
      ],
      "metadata": {
        "id": "SWI120Y0_58B"
      }
    },
    {
      "cell_type": "markdown",
      "source": [
        "**Actividad y pasos**\n",
        "\n",
        "1. Representar visualmente la Distribución de Chilenos y extranjeros mediante un gráfico de pie.\n",
        "  *   Obtener el número de personas de nacionalidad Chilena totales.\n",
        "    *   Obtener el número de Hombres Chilenos totales.\n",
        "    *   Obtener el número de Mujeres Chilenas totales.\n",
        "  *   Obtener el número de personas de nacionalidad extranjera totales.\n",
        "    *   Obtener el número de Hombres extranjeros totales.\n",
        "    *   Obtener el número de Mujeres extranjeras totales.\n",
        "  *   Incoporar selector por año."
      ],
      "metadata": {
        "id": "JazyL4Lg_9Jj"
      }
    },
    {
      "cell_type": "markdown",
      "source": [
        "### **Procesamiento de los datos**"
      ],
      "metadata": {
        "id": "p6GcR9ddAB7O"
      }
    },
    {
      "cell_type": "markdown",
      "source": [
        "Primero me enfocare en las personas de nacionalidad Chilena de sexo masculino, femenino y totales."
      ],
      "metadata": {
        "id": "Pswr-5gjMQ7R"
      }
    },
    {
      "cell_type": "code",
      "source": [
        "# Inicializar listas para almacenar los totales de chilenos y extranjeros\n",
        "totales_chilenos = []\n",
        "hombres_totales_chilenos = []\n",
        "mujeres_totales_chilenas = []\n",
        "\n",
        "# Cálculo de la cantidad de personas de nacionalidad Chilena por año\n",
        "for año, data_anual in datos_por_anio.items():\n",
        "    # Obtención total, masculino y femenino (Chilena)\n",
        "    total_chilenos = (data_anual['Chilena']==1).sum()\n",
        "    total_chilenas = (data_anual['Chilena']==0).sum()\n",
        "    total = total_chilenos+total_chilenas\n",
        "\n",
        "    totales_chilenos.append(total)\n",
        "    hombres_totales_chilenos.append(total_chilenos)\n",
        "    mujeres_totales_chilenas.append(total_chilenas)\n",
        "\n",
        "print(\"Chilenos totales: \",totales_chilenos)\n",
        "print(\"Hombres Chilenos totales: \",hombres_totales_chilenos)\n",
        "print(\"Mujeres Chilenas totales: \",mujeres_totales_chilenas)"
      ],
      "metadata": {
        "colab": {
          "base_uri": "https://localhost:8080/"
        },
        "id": "w1O0dCIoGZQW",
        "outputId": "629ffd11-5f45-4c62-cea6-2e8ac557c07e"
      },
      "execution_count": 196,
      "outputs": [
        {
          "output_type": "stream",
          "name": "stdout",
          "text": [
            "Chilenos totales:  [498, 498, 498]\n",
            "Hombres Chilenos totales:  [237, 237, 247]\n",
            "Mujeres Chilenas totales:  [261, 261, 251]\n"
          ]
        }
      ]
    },
    {
      "cell_type": "markdown",
      "source": [
        "Luego obtendre las personas de nacionalidad extranjera de sexo masculino, femenino y totales."
      ],
      "metadata": {
        "id": "nUcfF5pxbaWL"
      }
    },
    {
      "cell_type": "code",
      "source": [
        "# Inicializar listas para almacenar los totales de chilenos y extranjeros\n",
        "totales_extranjeros = []\n",
        "hombres_totales_extranjeros = []\n",
        "mujeres_totales_extranjeras = []\n",
        "\n",
        "# Cálculo de la cantidad de personas de nacionalidad Chilena por año\n",
        "for año, data_anual in datos_por_anio.items():\n",
        "    # Eliminar la columna de nacionalidad Chilena que ya fue contabilizada\n",
        "    data_frame_extranjeros = data_anual.drop(columns='Chilena')\n",
        "    # Obtención total, masculino y femenino (Chilena)\n",
        "    total_extrajeros = (data_frame_extranjeros==1).sum().sum()\n",
        "    total_extranjeras = (data_frame_extranjeros==0).sum().sum()\n",
        "    total = total_extrajeros + total_extranjeras\n",
        "\n",
        "    totales_extranjeros.append(total)\n",
        "    hombres_totales_extranjeros.append(total_extrajeros)\n",
        "    mujeres_totales_extranjeras.append(total_extranjeras)\n",
        "\n",
        "print(\"Extranjeros totales: \",totales_extranjeros)\n",
        "print(\"Hombres extranjeros totales: \",hombres_totales_extranjeros)\n",
        "print(\"Mujeres extranjeras totales: \",mujeres_totales_extranjeras)"
      ],
      "metadata": {
        "colab": {
          "base_uri": "https://localhost:8080/"
        },
        "id": "oMv3ybIoMPEN",
        "outputId": "20b9cead-a9d2-4e2e-eb3a-b1c95d0ef013"
      },
      "execution_count": 197,
      "outputs": [
        {
          "output_type": "stream",
          "name": "stdout",
          "text": [
            "Extranjeros totales:  [3984, 3984, 3984]\n",
            "Hombres extranjeros totales:  [1969, 1985, 1945]\n",
            "Mujeres extranjeras totales:  [2015, 1999, 2039]\n"
          ]
        }
      ]
    },
    {
      "cell_type": "markdown",
      "source": [
        "Verificamos que los datos coincidan"
      ],
      "metadata": {
        "id": "5zj4dhk9UPem"
      }
    },
    {
      "cell_type": "code",
      "source": [
        "dimensiones = []\n",
        "for año, data_anual in datos_por_anio.items():\n",
        "    dimensiones.append(data_anual.shape)\n",
        "\n",
        "print(\"1 - dimensiones de la data por año: \", dimensiones)\n",
        "\n",
        "resultados = []\n",
        "for dimension in dimensiones:\n",
        "    resultado = dimension[0] * dimension[1]\n",
        "    resultados.append(resultado)\n",
        "\n",
        "print(\"2 - Total de registros: \", resultados)\n",
        "\n",
        "lista1 = [10, 20, 30]\n",
        "lista2 = [30, 40, 20]\n",
        "\n",
        "# Sumar elementos correspondientes de ambas listas\n",
        "resultado3 = [x + y for x, y in zip(totales_chilenos, totales_extranjeros)]\n",
        "\n",
        "print(\"3 - Cantidad de registros sumando Chilenos y extranjeros:\", resultado3)\n",
        "\n",
        "# Sumar elementos correspondientes de ambas listas\n",
        "resultado4 = [x + y for x, y in zip(hombres_totales_chilenos, hombres_totales_extranjeros)]\n",
        "\n",
        "print(\"4 - Cantidad de registros sumando Chilenos hombres y extranjeros hombres:\", resultado4)\n",
        "\n",
        "# Sumar elementos correspondientes de ambas listas\n",
        "resultado5 = [x + y for x, y in zip(mujeres_totales_chilenas, mujeres_totales_extranjeras)]\n",
        "\n",
        "print(\"5 - Cantidad de registros sumando Chilenas mujeres y extranjeras mujeres:\", resultado5)\n",
        "\n",
        "# Sumar elementos correspondientes de ambas listas\n",
        "resultado6 = [x + y for x, y in zip(resultado4, resultado5)]\n",
        "\n",
        "print(\"6 - Cantidad de registros sumando hombres y mujeres:\", resultado6)"
      ],
      "metadata": {
        "colab": {
          "base_uri": "https://localhost:8080/"
        },
        "id": "fWzV8peVUSoy",
        "outputId": "93a14155-1857-4a5f-bc85-b31a631a8735"
      },
      "execution_count": 198,
      "outputs": [
        {
          "output_type": "stream",
          "name": "stdout",
          "text": [
            "1 - dimensiones de la data por año:  [(498, 9), (498, 9), (498, 9)]\n",
            "2 - Total de registros:  [4482, 4482, 4482]\n",
            "3 - Cantidad de registros sumando Chilenos y extranjeros: [4482, 4482, 4482]\n",
            "4 - Cantidad de registros sumando Chilenos hombres y extranjeros hombres: [2206, 2222, 2192]\n",
            "5 - Cantidad de registros sumando Chilenas mujeres y extranjeras mujeres: [2276, 2260, 2290]\n",
            "6 - Cantidad de registros sumando hombres y mujeres: [4482, 4482, 4482]\n"
          ]
        }
      ]
    },
    {
      "cell_type": "markdown",
      "source": [
        "En efecto coinciden. Avanzo hacia el gráfico de pie."
      ],
      "metadata": {
        "id": "71CysKBna27j"
      }
    },
    {
      "cell_type": "markdown",
      "source": [
        "### **Resultado del análisis**"
      ],
      "metadata": {
        "id": "jou0khpSAF1j"
      }
    },
    {
      "cell_type": "markdown",
      "source": [
        " Distribución de personas de nacionalidad Chilena y nacionalidad extranjera mediante un gráfico de pie."
      ],
      "metadata": {
        "id": "SXKK_RjkcoMl"
      }
    },
    {
      "cell_type": "code",
      "source": [
        "# Creación de las etiquetas con el número total de personas para cada año\n",
        "etiquetas_2021 = [f'Nacionalidad Chilena ({totales_chilenos[0]})', f'Nacionalidad extranjera ({totales_extranjeros[0]})']\n",
        "etiquetas_2022 = [f'Nacionalidad Chilena ({totales_chilenos[1]})', f'Nacionalidad extranjera ({totales_extranjeros[1]})']\n",
        "etiquetas_2023 = [f'Nacionalidad Chilena ({totales_chilenos[2]})', f'Nacionalidad extranjera ({totales_extranjeros[2]})']\n",
        "\n",
        "# Creación de la figura con un gráfico circular (pie chart)\n",
        "fig = go.Figure(data=[\n",
        "    go.Pie(labels=etiquetas_2021, values=[totales_chilenos[0],totales_extranjeros[0]], hole=0, name='2021'),\n",
        "    go.Pie(labels=etiquetas_2022, values=[totales_chilenos[1],totales_extranjeros[1]], hole=0, name='2022', visible=False),\n",
        "    go.Pie(labels=etiquetas_2023, values=[totales_chilenos[2],totales_extranjeros[2]], hole=0, name='2023', visible=False)\n",
        "])\n",
        "\n",
        "# Especificar los colores\n",
        "fig.update_traces(marker=dict(colors=['red', 'green']))\n",
        "\n",
        "# Configuración del diseño del gráfico\n",
        "fig.update_layout(\n",
        "    title='Distribución Chilenos - extranjeros 2021',\n",
        "    showlegend=True,\n",
        "    width=700,  # Ancho del gráfico\n",
        "    height=500,  # Alto del gráfico\n",
        "    title_x=0.4,  # Posición horizontal del título (0.5 es el centro)\n",
        "    title_y=0.9,  # Posición vertical del título (0.9 está más cerca del borde superior)\n",
        ")\n",
        "\n",
        "# Agregar un menú desplegable\n",
        "fig.update_layout(updatemenus=[dict(active=0,buttons=list([\n",
        "        dict(label=\"2021\", method=\"update\",\n",
        "          args=[{\"visible\": [True, False, False]}, {\"title\": \"Distribución Chilenos - Extranjeros año 2021\"}]),\n",
        "        dict(label=\"2022\", method=\"update\",\n",
        "          args=[{\"visible\": [False, True, False]}, {\"title\": \"Distribución Chilenos - Extranjeros año 2022\"}]),\n",
        "        dict(label=\"2023\", method=\"update\",\n",
        "          args=[{\"visible\": [False, False, True]}, {\"title\": \"Distribución Chilenos - Extranjeros año 2023\"}])\n",
        "      ,])\n",
        ",)])\n",
        "\n",
        "fig.show()"
      ],
      "metadata": {
        "colab": {
          "base_uri": "https://localhost:8080/",
          "height": 517
        },
        "id": "uq5m0to8P1F9",
        "outputId": "6c175a6f-b1d1-4d06-d4ae-4081520f2d58"
      },
      "execution_count": 199,
      "outputs": [
        {
          "output_type": "display_data",
          "data": {
            "text/html": [
              "<html>\n",
              "<head><meta charset=\"utf-8\" /></head>\n",
              "<body>\n",
              "    <div>            <script src=\"https://cdnjs.cloudflare.com/ajax/libs/mathjax/2.7.5/MathJax.js?config=TeX-AMS-MML_SVG\"></script><script type=\"text/javascript\">if (window.MathJax && window.MathJax.Hub && window.MathJax.Hub.Config) {window.MathJax.Hub.Config({SVG: {font: \"STIX-Web\"}});}</script>                <script type=\"text/javascript\">window.PlotlyConfig = {MathJaxConfig: 'local'};</script>\n",
              "        <script charset=\"utf-8\" src=\"https://cdn.plot.ly/plotly-2.24.1.min.js\"></script>                <div id=\"a2f2e56f-bd4d-4892-a4c2-756617e438ce\" class=\"plotly-graph-div\" style=\"height:500px; width:700px;\"></div>            <script type=\"text/javascript\">                                    window.PLOTLYENV=window.PLOTLYENV || {};                                    if (document.getElementById(\"a2f2e56f-bd4d-4892-a4c2-756617e438ce\")) {                    Plotly.newPlot(                        \"a2f2e56f-bd4d-4892-a4c2-756617e438ce\",                        [{\"hole\":0,\"labels\":[\"Nacionalidad Chilena (498)\",\"Nacionalidad extranjera (3984)\"],\"name\":\"2021\",\"values\":[498,3984],\"type\":\"pie\",\"marker\":{\"colors\":[\"red\",\"green\"]}},{\"hole\":0,\"labels\":[\"Nacionalidad Chilena (498)\",\"Nacionalidad extranjera (3984)\"],\"name\":\"2022\",\"values\":[498,3984],\"visible\":false,\"type\":\"pie\",\"marker\":{\"colors\":[\"red\",\"green\"]}},{\"hole\":0,\"labels\":[\"Nacionalidad Chilena (498)\",\"Nacionalidad extranjera (3984)\"],\"name\":\"2023\",\"values\":[498,3984],\"visible\":false,\"type\":\"pie\",\"marker\":{\"colors\":[\"red\",\"green\"]}}],                        {\"template\":{\"data\":{\"candlestick\":[{\"decreasing\":{\"line\":{\"color\":\"#000033\"}},\"increasing\":{\"line\":{\"color\":\"#000032\"}},\"type\":\"candlestick\"}],\"contourcarpet\":[{\"colorscale\":[[0.0,\"#000011\"],[0.1111111111111111,\"#000012\"],[0.2222222222222222,\"#000013\"],[0.3333333333333333,\"#000014\"],[0.4444444444444444,\"#000015\"],[0.5555555555555556,\"#000016\"],[0.6666666666666666,\"#000017\"],[0.7777777777777778,\"#000018\"],[0.8888888888888888,\"#000019\"],[1.0,\"#000020\"]],\"type\":\"contourcarpet\"}],\"contour\":[{\"colorscale\":[[0.0,\"#000011\"],[0.1111111111111111,\"#000012\"],[0.2222222222222222,\"#000013\"],[0.3333333333333333,\"#000014\"],[0.4444444444444444,\"#000015\"],[0.5555555555555556,\"#000016\"],[0.6666666666666666,\"#000017\"],[0.7777777777777778,\"#000018\"],[0.8888888888888888,\"#000019\"],[1.0,\"#000020\"]],\"type\":\"contour\"}],\"heatmap\":[{\"colorscale\":[[0.0,\"#000011\"],[0.1111111111111111,\"#000012\"],[0.2222222222222222,\"#000013\"],[0.3333333333333333,\"#000014\"],[0.4444444444444444,\"#000015\"],[0.5555555555555556,\"#000016\"],[0.6666666666666666,\"#000017\"],[0.7777777777777778,\"#000018\"],[0.8888888888888888,\"#000019\"],[1.0,\"#000020\"]],\"type\":\"heatmap\"}],\"histogram2d\":[{\"colorscale\":[[0.0,\"#000011\"],[0.1111111111111111,\"#000012\"],[0.2222222222222222,\"#000013\"],[0.3333333333333333,\"#000014\"],[0.4444444444444444,\"#000015\"],[0.5555555555555556,\"#000016\"],[0.6666666666666666,\"#000017\"],[0.7777777777777778,\"#000018\"],[0.8888888888888888,\"#000019\"],[1.0,\"#000020\"]],\"type\":\"histogram2d\"}],\"icicle\":[{\"textfont\":{\"color\":\"white\"},\"type\":\"icicle\"}],\"sankey\":[{\"textfont\":{\"color\":\"#000036\"},\"type\":\"sankey\"}],\"scatter\":[{\"marker\":{\"line\":{\"width\":0}},\"type\":\"scatter\"}],\"table\":[{\"cells\":{\"fill\":{\"color\":\"#000038\"},\"font\":{\"color\":\"#000037\"},\"line\":{\"color\":\"#000039\"}},\"header\":{\"fill\":{\"color\":\"#000040\"},\"font\":{\"color\":\"#000036\"},\"line\":{\"color\":\"#000039\"}},\"type\":\"table\"}],\"waterfall\":[{\"connector\":{\"line\":{\"color\":\"#000036\",\"width\":2}},\"decreasing\":{\"marker\":{\"color\":\"#000033\"}},\"increasing\":{\"marker\":{\"color\":\"#000032\"}},\"totals\":{\"marker\":{\"color\":\"#000034\"}},\"type\":\"waterfall\"}]},\"layout\":{\"coloraxis\":{\"colorscale\":[[0.0,\"#000011\"],[0.1111111111111111,\"#000012\"],[0.2222222222222222,\"#000013\"],[0.3333333333333333,\"#000014\"],[0.4444444444444444,\"#000015\"],[0.5555555555555556,\"#000016\"],[0.6666666666666666,\"#000017\"],[0.7777777777777778,\"#000018\"],[0.8888888888888888,\"#000019\"],[1.0,\"#000020\"]]},\"colorscale\":{\"diverging\":[[0.0,\"#000021\"],[0.1,\"#000022\"],[0.2,\"#000023\"],[0.3,\"#000024\"],[0.4,\"#000025\"],[0.5,\"#000026\"],[0.6,\"#000027\"],[0.7,\"#000028\"],[0.8,\"#000029\"],[0.9,\"#000030\"],[1.0,\"#000031\"]],\"sequential\":[[0.0,\"#000011\"],[0.1111111111111111,\"#000012\"],[0.2222222222222222,\"#000013\"],[0.3333333333333333,\"#000014\"],[0.4444444444444444,\"#000015\"],[0.5555555555555556,\"#000016\"],[0.6666666666666666,\"#000017\"],[0.7777777777777778,\"#000018\"],[0.8888888888888888,\"#000019\"],[1.0,\"#000020\"]],\"sequentialminus\":[[0.0,\"#000011\"],[0.1111111111111111,\"#000012\"],[0.2222222222222222,\"#000013\"],[0.3333333333333333,\"#000014\"],[0.4444444444444444,\"#000015\"],[0.5555555555555556,\"#000016\"],[0.6666666666666666,\"#000017\"],[0.7777777777777778,\"#000018\"],[0.8888888888888888,\"#000019\"],[1.0,\"#000020\"]]},\"colorway\":[\"#000001\",\"#000002\",\"#000003\",\"#000004\",\"#000005\",\"#000006\",\"#000007\",\"#000008\",\"#000009\",\"#000010\"]}},\"title\":{\"text\":\"Distribuci\\u00f3n Chilenos - extranjeros 2021\",\"x\":0.4,\"y\":0.9},\"showlegend\":true,\"width\":700,\"height\":500,\"updatemenus\":[{\"active\":0,\"buttons\":[{\"args\":[{\"visible\":[true,false,false]},{\"title\":\"Distribuci\\u00f3n Chilenos - Extranjeros a\\u00f1o 2021\"}],\"label\":\"2021\",\"method\":\"update\"},{\"args\":[{\"visible\":[false,true,false]},{\"title\":\"Distribuci\\u00f3n Chilenos - Extranjeros a\\u00f1o 2022\"}],\"label\":\"2022\",\"method\":\"update\"},{\"args\":[{\"visible\":[false,false,true]},{\"title\":\"Distribuci\\u00f3n Chilenos - Extranjeros a\\u00f1o 2023\"}],\"label\":\"2023\",\"method\":\"update\"}]}]},                        {\"responsive\": true}                    ).then(function(){\n",
              "                            \n",
              "var gd = document.getElementById('a2f2e56f-bd4d-4892-a4c2-756617e438ce');\n",
              "var x = new MutationObserver(function (mutations, observer) {{\n",
              "        var display = window.getComputedStyle(gd).display;\n",
              "        if (!display || display === 'none') {{\n",
              "            console.log([gd, 'removed!']);\n",
              "            Plotly.purge(gd);\n",
              "            observer.disconnect();\n",
              "        }}\n",
              "}});\n",
              "\n",
              "// Listen for the removal of the full notebook cells\n",
              "var notebookContainer = gd.closest('#notebook-container');\n",
              "if (notebookContainer) {{\n",
              "    x.observe(notebookContainer, {childList: true});\n",
              "}}\n",
              "\n",
              "// Listen for the clearing of the current output cell\n",
              "var outputEl = gd.closest('.output');\n",
              "if (outputEl) {{\n",
              "    x.observe(outputEl, {childList: true});\n",
              "}}\n",
              "\n",
              "                        })                };                            </script>        </div>\n",
              "</body>\n",
              "</html>"
            ]
          },
          "metadata": {}
        }
      ]
    },
    {
      "cell_type": "markdown",
      "source": [
        "Distribución de Chilenas y extranjeras mediante un gráfico de pie."
      ],
      "metadata": {
        "id": "Zxc5lphbeUfA"
      }
    },
    {
      "cell_type": "code",
      "source": [
        "# Creación de las etiquetas con el número total de personas para cada año\n",
        "etiquetas_2021 = [f'Mujeres Chilenas ({mujeres_totales_chilenas[0]})', f'Mujeres Extranjeras ({mujeres_totales_extranjeras[0]})']\n",
        "etiquetas_2022 = [f'Mujeres Chilenas ({mujeres_totales_chilenas[1]})', f'Mujeres Extranjeras ({mujeres_totales_extranjeras[1]})']\n",
        "etiquetas_2023 = [f'Mujeres Chilenas ({mujeres_totales_chilenas[2]})', f'Mujeres Extranjeras ({mujeres_totales_extranjeras[2]})']\n",
        "\n",
        "# Creación de la figura con un gráfico circular\n",
        "fig = go.Figure(data=[\n",
        "    go.Pie(labels=etiquetas_2021, values=[mujeres_totales_chilenas[0],mujeres_totales_extranjeras[0]], hole=0, name='2021'),\n",
        "    go.Pie(labels=etiquetas_2022, values=[mujeres_totales_chilenas[1],mujeres_totales_extranjeras[1]], hole=0, name='2022', visible=False),\n",
        "    go.Pie(labels=etiquetas_2023, values=[mujeres_totales_chilenas[2],mujeres_totales_extranjeras[2]], hole=0, name='2023', visible=False)\n",
        "])\n",
        "\n",
        "# Especificar los colores\n",
        "fig.update_traces(marker=dict(colors=['red', 'green']))\n",
        "\n",
        "# Configuración del diseño del gráfico\n",
        "fig.update_layout(\n",
        "    title='Distribución Chilenas mujeres - extranjeras mujeres 2021',\n",
        "    showlegend=True,\n",
        "    width=700,  # Ancho del gráfico\n",
        "    height=500,  # Alto del gráfico\n",
        "    title_x=0.4,  # Posición horizontal del título (0.5 es el centro)\n",
        "    title_y=0.9,  # Posición vertical del título (0.9 está más cerca del borde superior)\n",
        ")\n",
        "\n",
        "# Agregar un menú desplegable\n",
        "fig.update_layout(updatemenus=[dict(active=0,buttons=list([\n",
        "    dict(label=\"2021\", method=\"update\",\n",
        "      args=[{\"visible\": [True, False, False]}, {\"title\": \"Distribución Chilenas mujeres - extranjeras mujeres año 2021\"}]),\n",
        "    dict(label=\"2022\", method=\"update\",\n",
        "      args=[{\"visible\": [False, True, False]}, {\"title\": \"Distribución Chilenas mujeres - extranjeras mujeres año 2022\"}]),\n",
        "    dict(label=\"2023\", method=\"update\",\n",
        "      args=[{\"visible\": [False, False, True]}, {\"title\": \"Distribución Chilenas mujeres - extranjeras mujeres año 2023\"}]),\n",
        "    ]),\n",
        ")])\n",
        "\n",
        "fig.show()"
      ],
      "metadata": {
        "colab": {
          "base_uri": "https://localhost:8080/",
          "height": 517
        },
        "id": "dr-zwQZmeZzo",
        "outputId": "65019e25-7e35-4049-de37-9e5c5bf09cac"
      },
      "execution_count": 200,
      "outputs": [
        {
          "output_type": "display_data",
          "data": {
            "text/html": [
              "<html>\n",
              "<head><meta charset=\"utf-8\" /></head>\n",
              "<body>\n",
              "    <div>            <script src=\"https://cdnjs.cloudflare.com/ajax/libs/mathjax/2.7.5/MathJax.js?config=TeX-AMS-MML_SVG\"></script><script type=\"text/javascript\">if (window.MathJax && window.MathJax.Hub && window.MathJax.Hub.Config) {window.MathJax.Hub.Config({SVG: {font: \"STIX-Web\"}});}</script>                <script type=\"text/javascript\">window.PlotlyConfig = {MathJaxConfig: 'local'};</script>\n",
              "        <script charset=\"utf-8\" src=\"https://cdn.plot.ly/plotly-2.24.1.min.js\"></script>                <div id=\"d0b4cb25-7526-4ab4-906c-0cfc40e978cd\" class=\"plotly-graph-div\" style=\"height:500px; width:700px;\"></div>            <script type=\"text/javascript\">                                    window.PLOTLYENV=window.PLOTLYENV || {};                                    if (document.getElementById(\"d0b4cb25-7526-4ab4-906c-0cfc40e978cd\")) {                    Plotly.newPlot(                        \"d0b4cb25-7526-4ab4-906c-0cfc40e978cd\",                        [{\"hole\":0,\"labels\":[\"Mujeres Chilenas (261)\",\"Mujeres Extranjeras (2015)\"],\"name\":\"2021\",\"values\":[261,2015],\"type\":\"pie\",\"marker\":{\"colors\":[\"red\",\"green\"]}},{\"hole\":0,\"labels\":[\"Mujeres Chilenas (261)\",\"Mujeres Extranjeras (1999)\"],\"name\":\"2022\",\"values\":[261,1999],\"visible\":false,\"type\":\"pie\",\"marker\":{\"colors\":[\"red\",\"green\"]}},{\"hole\":0,\"labels\":[\"Mujeres Chilenas (251)\",\"Mujeres Extranjeras (2039)\"],\"name\":\"2023\",\"values\":[251,2039],\"visible\":false,\"type\":\"pie\",\"marker\":{\"colors\":[\"red\",\"green\"]}}],                        {\"template\":{\"data\":{\"candlestick\":[{\"decreasing\":{\"line\":{\"color\":\"#000033\"}},\"increasing\":{\"line\":{\"color\":\"#000032\"}},\"type\":\"candlestick\"}],\"contourcarpet\":[{\"colorscale\":[[0.0,\"#000011\"],[0.1111111111111111,\"#000012\"],[0.2222222222222222,\"#000013\"],[0.3333333333333333,\"#000014\"],[0.4444444444444444,\"#000015\"],[0.5555555555555556,\"#000016\"],[0.6666666666666666,\"#000017\"],[0.7777777777777778,\"#000018\"],[0.8888888888888888,\"#000019\"],[1.0,\"#000020\"]],\"type\":\"contourcarpet\"}],\"contour\":[{\"colorscale\":[[0.0,\"#000011\"],[0.1111111111111111,\"#000012\"],[0.2222222222222222,\"#000013\"],[0.3333333333333333,\"#000014\"],[0.4444444444444444,\"#000015\"],[0.5555555555555556,\"#000016\"],[0.6666666666666666,\"#000017\"],[0.7777777777777778,\"#000018\"],[0.8888888888888888,\"#000019\"],[1.0,\"#000020\"]],\"type\":\"contour\"}],\"heatmap\":[{\"colorscale\":[[0.0,\"#000011\"],[0.1111111111111111,\"#000012\"],[0.2222222222222222,\"#000013\"],[0.3333333333333333,\"#000014\"],[0.4444444444444444,\"#000015\"],[0.5555555555555556,\"#000016\"],[0.6666666666666666,\"#000017\"],[0.7777777777777778,\"#000018\"],[0.8888888888888888,\"#000019\"],[1.0,\"#000020\"]],\"type\":\"heatmap\"}],\"histogram2d\":[{\"colorscale\":[[0.0,\"#000011\"],[0.1111111111111111,\"#000012\"],[0.2222222222222222,\"#000013\"],[0.3333333333333333,\"#000014\"],[0.4444444444444444,\"#000015\"],[0.5555555555555556,\"#000016\"],[0.6666666666666666,\"#000017\"],[0.7777777777777778,\"#000018\"],[0.8888888888888888,\"#000019\"],[1.0,\"#000020\"]],\"type\":\"histogram2d\"}],\"icicle\":[{\"textfont\":{\"color\":\"white\"},\"type\":\"icicle\"}],\"sankey\":[{\"textfont\":{\"color\":\"#000036\"},\"type\":\"sankey\"}],\"scatter\":[{\"marker\":{\"line\":{\"width\":0}},\"type\":\"scatter\"}],\"table\":[{\"cells\":{\"fill\":{\"color\":\"#000038\"},\"font\":{\"color\":\"#000037\"},\"line\":{\"color\":\"#000039\"}},\"header\":{\"fill\":{\"color\":\"#000040\"},\"font\":{\"color\":\"#000036\"},\"line\":{\"color\":\"#000039\"}},\"type\":\"table\"}],\"waterfall\":[{\"connector\":{\"line\":{\"color\":\"#000036\",\"width\":2}},\"decreasing\":{\"marker\":{\"color\":\"#000033\"}},\"increasing\":{\"marker\":{\"color\":\"#000032\"}},\"totals\":{\"marker\":{\"color\":\"#000034\"}},\"type\":\"waterfall\"}]},\"layout\":{\"coloraxis\":{\"colorscale\":[[0.0,\"#000011\"],[0.1111111111111111,\"#000012\"],[0.2222222222222222,\"#000013\"],[0.3333333333333333,\"#000014\"],[0.4444444444444444,\"#000015\"],[0.5555555555555556,\"#000016\"],[0.6666666666666666,\"#000017\"],[0.7777777777777778,\"#000018\"],[0.8888888888888888,\"#000019\"],[1.0,\"#000020\"]]},\"colorscale\":{\"diverging\":[[0.0,\"#000021\"],[0.1,\"#000022\"],[0.2,\"#000023\"],[0.3,\"#000024\"],[0.4,\"#000025\"],[0.5,\"#000026\"],[0.6,\"#000027\"],[0.7,\"#000028\"],[0.8,\"#000029\"],[0.9,\"#000030\"],[1.0,\"#000031\"]],\"sequential\":[[0.0,\"#000011\"],[0.1111111111111111,\"#000012\"],[0.2222222222222222,\"#000013\"],[0.3333333333333333,\"#000014\"],[0.4444444444444444,\"#000015\"],[0.5555555555555556,\"#000016\"],[0.6666666666666666,\"#000017\"],[0.7777777777777778,\"#000018\"],[0.8888888888888888,\"#000019\"],[1.0,\"#000020\"]],\"sequentialminus\":[[0.0,\"#000011\"],[0.1111111111111111,\"#000012\"],[0.2222222222222222,\"#000013\"],[0.3333333333333333,\"#000014\"],[0.4444444444444444,\"#000015\"],[0.5555555555555556,\"#000016\"],[0.6666666666666666,\"#000017\"],[0.7777777777777778,\"#000018\"],[0.8888888888888888,\"#000019\"],[1.0,\"#000020\"]]},\"colorway\":[\"#000001\",\"#000002\",\"#000003\",\"#000004\",\"#000005\",\"#000006\",\"#000007\",\"#000008\",\"#000009\",\"#000010\"]}},\"title\":{\"text\":\"Distribuci\\u00f3n Chilenas mujeres - extranjeras mujeres 2021\",\"x\":0.4,\"y\":0.9},\"showlegend\":true,\"width\":700,\"height\":500,\"updatemenus\":[{\"active\":0,\"buttons\":[{\"args\":[{\"visible\":[true,false,false]},{\"title\":\"Distribuci\\u00f3n Chilenas mujeres - extranjeras mujeres a\\u00f1o 2021\"}],\"label\":\"2021\",\"method\":\"update\"},{\"args\":[{\"visible\":[false,true,false]},{\"title\":\"Distribuci\\u00f3n Chilenas mujeres - extranjeras mujeres a\\u00f1o 2022\"}],\"label\":\"2022\",\"method\":\"update\"},{\"args\":[{\"visible\":[false,false,true]},{\"title\":\"Distribuci\\u00f3n Chilenas mujeres - extranjeras mujeres a\\u00f1o 2023\"}],\"label\":\"2023\",\"method\":\"update\"}]}]},                        {\"responsive\": true}                    ).then(function(){\n",
              "                            \n",
              "var gd = document.getElementById('d0b4cb25-7526-4ab4-906c-0cfc40e978cd');\n",
              "var x = new MutationObserver(function (mutations, observer) {{\n",
              "        var display = window.getComputedStyle(gd).display;\n",
              "        if (!display || display === 'none') {{\n",
              "            console.log([gd, 'removed!']);\n",
              "            Plotly.purge(gd);\n",
              "            observer.disconnect();\n",
              "        }}\n",
              "}});\n",
              "\n",
              "// Listen for the removal of the full notebook cells\n",
              "var notebookContainer = gd.closest('#notebook-container');\n",
              "if (notebookContainer) {{\n",
              "    x.observe(notebookContainer, {childList: true});\n",
              "}}\n",
              "\n",
              "// Listen for the clearing of the current output cell\n",
              "var outputEl = gd.closest('.output');\n",
              "if (outputEl) {{\n",
              "    x.observe(outputEl, {childList: true});\n",
              "}}\n",
              "\n",
              "                        })                };                            </script>        </div>\n",
              "</body>\n",
              "</html>"
            ]
          },
          "metadata": {}
        }
      ]
    },
    {
      "cell_type": "markdown",
      "source": [
        "Distribución de Chilenos hombres y extranjeros hombres mediante un gráfico de pie."
      ],
      "metadata": {
        "id": "3jUue8QMgGdM"
      }
    },
    {
      "cell_type": "code",
      "source": [
        "# Creación de las etiquetas con el número total de personas para cada año\n",
        "etiquetas_2021 = [f'Chilenos hombres ({hombres_totales_chilenos[0]})', f'Extranjeros hombres ({hombres_totales_extranjeros[0]})']\n",
        "etiquetas_2022 = [f'Chilenos hombres ({hombres_totales_chilenos[1]})', f'Extranjeros hombres ({hombres_totales_extranjeros[1]})']\n",
        "etiquetas_2023 = [f'Chilenas hombres ({hombres_totales_chilenos[2]})', f'Extranjeros hombres ({hombres_totales_extranjeros[2]})']\n",
        "\n",
        "# Creación de la figura con un gráfico circular\n",
        "fig = go.Figure(data=[\n",
        "    go.Pie(labels=etiquetas_2021, values=[hombres_totales_chilenos[0],hombres_totales_extranjeros[0]], hole=0, name='2021'),\n",
        "    go.Pie(labels=etiquetas_2022, values=[hombres_totales_chilenos[1],hombres_totales_extranjeros[1]], hole=0, name='2022', visible=False),\n",
        "    go.Pie(labels=etiquetas_2023, values=[hombres_totales_chilenos[2],hombres_totales_extranjeros[2]], hole=0, name='2023', visible=False)\n",
        "])\n",
        "\n",
        "# Especificar los colores\n",
        "fig.update_traces(marker=dict(colors=['red', 'green']))\n",
        "\n",
        "# Configuración del diseño del gráfico\n",
        "fig.update_layout(\n",
        "    title='Distribución Chilenos hombres - extranjeros hombres año 2021',\n",
        "    showlegend=True,\n",
        "    width=700,  # Ancho del gráfico\n",
        "    height=500,  # Alto del gráfico\n",
        "    title_x=0.4,  # Posición horizontal del título (0.5 es el centro)\n",
        "    title_y=0.9,  # Posición vertical del título (0.9 está más cerca del borde superior)\n",
        ")\n",
        "\n",
        "# Agregar un menú desplegable\n",
        "fig.update_layout(updatemenus=[dict(active=0,buttons=list([\n",
        "    dict(label=\"2021\", method=\"update\",\n",
        "      args=[{\"visible\": [True, False, False]}, {\"title\": \"Distribución Chilenos hombres - extranjeros hombres año 2021\"}]),\n",
        "    dict(label=\"2022\", method=\"update\",\n",
        "      args=[{\"visible\": [False, True, False]}, {\"title\": \"Distribución Chilenos hombres - extranjeros hombres año 2022\"}]),\n",
        "    dict(label=\"2023\", method=\"update\",\n",
        "      args=[{\"visible\": [False, False, True]}, {\"title\": \"Distribución Chilenos hombres - extranjeros hombres año 2023\"}]),\n",
        "    ])\n",
        ",)])\n",
        "\n",
        "fig.show()"
      ],
      "metadata": {
        "colab": {
          "base_uri": "https://localhost:8080/",
          "height": 517
        },
        "id": "M67rly_pgGOQ",
        "outputId": "62af0df1-6e88-4e0b-96ac-16aef6c4c4fe"
      },
      "execution_count": 201,
      "outputs": [
        {
          "output_type": "display_data",
          "data": {
            "text/html": [
              "<html>\n",
              "<head><meta charset=\"utf-8\" /></head>\n",
              "<body>\n",
              "    <div>            <script src=\"https://cdnjs.cloudflare.com/ajax/libs/mathjax/2.7.5/MathJax.js?config=TeX-AMS-MML_SVG\"></script><script type=\"text/javascript\">if (window.MathJax && window.MathJax.Hub && window.MathJax.Hub.Config) {window.MathJax.Hub.Config({SVG: {font: \"STIX-Web\"}});}</script>                <script type=\"text/javascript\">window.PlotlyConfig = {MathJaxConfig: 'local'};</script>\n",
              "        <script charset=\"utf-8\" src=\"https://cdn.plot.ly/plotly-2.24.1.min.js\"></script>                <div id=\"ef9ae3d1-9638-41a4-b343-4fa5efc6601c\" class=\"plotly-graph-div\" style=\"height:500px; width:700px;\"></div>            <script type=\"text/javascript\">                                    window.PLOTLYENV=window.PLOTLYENV || {};                                    if (document.getElementById(\"ef9ae3d1-9638-41a4-b343-4fa5efc6601c\")) {                    Plotly.newPlot(                        \"ef9ae3d1-9638-41a4-b343-4fa5efc6601c\",                        [{\"hole\":0,\"labels\":[\"Chilenos hombres (237)\",\"Extranjeros hombres (1969)\"],\"name\":\"2021\",\"values\":[237,1969],\"type\":\"pie\",\"marker\":{\"colors\":[\"red\",\"green\"]}},{\"hole\":0,\"labels\":[\"Chilenos hombres (237)\",\"Extranjeros hombres (1985)\"],\"name\":\"2022\",\"values\":[237,1985],\"visible\":false,\"type\":\"pie\",\"marker\":{\"colors\":[\"red\",\"green\"]}},{\"hole\":0,\"labels\":[\"Chilenas hombres (247)\",\"Extranjeros hombres (1945)\"],\"name\":\"2023\",\"values\":[247,1945],\"visible\":false,\"type\":\"pie\",\"marker\":{\"colors\":[\"red\",\"green\"]}}],                        {\"template\":{\"data\":{\"candlestick\":[{\"decreasing\":{\"line\":{\"color\":\"#000033\"}},\"increasing\":{\"line\":{\"color\":\"#000032\"}},\"type\":\"candlestick\"}],\"contourcarpet\":[{\"colorscale\":[[0.0,\"#000011\"],[0.1111111111111111,\"#000012\"],[0.2222222222222222,\"#000013\"],[0.3333333333333333,\"#000014\"],[0.4444444444444444,\"#000015\"],[0.5555555555555556,\"#000016\"],[0.6666666666666666,\"#000017\"],[0.7777777777777778,\"#000018\"],[0.8888888888888888,\"#000019\"],[1.0,\"#000020\"]],\"type\":\"contourcarpet\"}],\"contour\":[{\"colorscale\":[[0.0,\"#000011\"],[0.1111111111111111,\"#000012\"],[0.2222222222222222,\"#000013\"],[0.3333333333333333,\"#000014\"],[0.4444444444444444,\"#000015\"],[0.5555555555555556,\"#000016\"],[0.6666666666666666,\"#000017\"],[0.7777777777777778,\"#000018\"],[0.8888888888888888,\"#000019\"],[1.0,\"#000020\"]],\"type\":\"contour\"}],\"heatmap\":[{\"colorscale\":[[0.0,\"#000011\"],[0.1111111111111111,\"#000012\"],[0.2222222222222222,\"#000013\"],[0.3333333333333333,\"#000014\"],[0.4444444444444444,\"#000015\"],[0.5555555555555556,\"#000016\"],[0.6666666666666666,\"#000017\"],[0.7777777777777778,\"#000018\"],[0.8888888888888888,\"#000019\"],[1.0,\"#000020\"]],\"type\":\"heatmap\"}],\"histogram2d\":[{\"colorscale\":[[0.0,\"#000011\"],[0.1111111111111111,\"#000012\"],[0.2222222222222222,\"#000013\"],[0.3333333333333333,\"#000014\"],[0.4444444444444444,\"#000015\"],[0.5555555555555556,\"#000016\"],[0.6666666666666666,\"#000017\"],[0.7777777777777778,\"#000018\"],[0.8888888888888888,\"#000019\"],[1.0,\"#000020\"]],\"type\":\"histogram2d\"}],\"icicle\":[{\"textfont\":{\"color\":\"white\"},\"type\":\"icicle\"}],\"sankey\":[{\"textfont\":{\"color\":\"#000036\"},\"type\":\"sankey\"}],\"scatter\":[{\"marker\":{\"line\":{\"width\":0}},\"type\":\"scatter\"}],\"table\":[{\"cells\":{\"fill\":{\"color\":\"#000038\"},\"font\":{\"color\":\"#000037\"},\"line\":{\"color\":\"#000039\"}},\"header\":{\"fill\":{\"color\":\"#000040\"},\"font\":{\"color\":\"#000036\"},\"line\":{\"color\":\"#000039\"}},\"type\":\"table\"}],\"waterfall\":[{\"connector\":{\"line\":{\"color\":\"#000036\",\"width\":2}},\"decreasing\":{\"marker\":{\"color\":\"#000033\"}},\"increasing\":{\"marker\":{\"color\":\"#000032\"}},\"totals\":{\"marker\":{\"color\":\"#000034\"}},\"type\":\"waterfall\"}]},\"layout\":{\"coloraxis\":{\"colorscale\":[[0.0,\"#000011\"],[0.1111111111111111,\"#000012\"],[0.2222222222222222,\"#000013\"],[0.3333333333333333,\"#000014\"],[0.4444444444444444,\"#000015\"],[0.5555555555555556,\"#000016\"],[0.6666666666666666,\"#000017\"],[0.7777777777777778,\"#000018\"],[0.8888888888888888,\"#000019\"],[1.0,\"#000020\"]]},\"colorscale\":{\"diverging\":[[0.0,\"#000021\"],[0.1,\"#000022\"],[0.2,\"#000023\"],[0.3,\"#000024\"],[0.4,\"#000025\"],[0.5,\"#000026\"],[0.6,\"#000027\"],[0.7,\"#000028\"],[0.8,\"#000029\"],[0.9,\"#000030\"],[1.0,\"#000031\"]],\"sequential\":[[0.0,\"#000011\"],[0.1111111111111111,\"#000012\"],[0.2222222222222222,\"#000013\"],[0.3333333333333333,\"#000014\"],[0.4444444444444444,\"#000015\"],[0.5555555555555556,\"#000016\"],[0.6666666666666666,\"#000017\"],[0.7777777777777778,\"#000018\"],[0.8888888888888888,\"#000019\"],[1.0,\"#000020\"]],\"sequentialminus\":[[0.0,\"#000011\"],[0.1111111111111111,\"#000012\"],[0.2222222222222222,\"#000013\"],[0.3333333333333333,\"#000014\"],[0.4444444444444444,\"#000015\"],[0.5555555555555556,\"#000016\"],[0.6666666666666666,\"#000017\"],[0.7777777777777778,\"#000018\"],[0.8888888888888888,\"#000019\"],[1.0,\"#000020\"]]},\"colorway\":[\"#000001\",\"#000002\",\"#000003\",\"#000004\",\"#000005\",\"#000006\",\"#000007\",\"#000008\",\"#000009\",\"#000010\"]}},\"title\":{\"text\":\"Distribuci\\u00f3n Chilenos hombres - extranjeros hombres a\\u00f1o 2021\",\"x\":0.4,\"y\":0.9},\"showlegend\":true,\"width\":700,\"height\":500,\"updatemenus\":[{\"active\":0,\"buttons\":[{\"args\":[{\"visible\":[true,false,false]},{\"title\":\"Distribuci\\u00f3n Chilenos hombres - extranjeros hombres a\\u00f1o 2021\"}],\"label\":\"2021\",\"method\":\"update\"},{\"args\":[{\"visible\":[false,true,false]},{\"title\":\"Distribuci\\u00f3n Chilenos hombres - extranjeros hombres a\\u00f1o 2022\"}],\"label\":\"2022\",\"method\":\"update\"},{\"args\":[{\"visible\":[false,false,true]},{\"title\":\"Distribuci\\u00f3n Chilenos hombres - extranjeros hombres a\\u00f1o 2023\"}],\"label\":\"2023\",\"method\":\"update\"}]}]},                        {\"responsive\": true}                    ).then(function(){\n",
              "                            \n",
              "var gd = document.getElementById('ef9ae3d1-9638-41a4-b343-4fa5efc6601c');\n",
              "var x = new MutationObserver(function (mutations, observer) {{\n",
              "        var display = window.getComputedStyle(gd).display;\n",
              "        if (!display || display === 'none') {{\n",
              "            console.log([gd, 'removed!']);\n",
              "            Plotly.purge(gd);\n",
              "            observer.disconnect();\n",
              "        }}\n",
              "}});\n",
              "\n",
              "// Listen for the removal of the full notebook cells\n",
              "var notebookContainer = gd.closest('#notebook-container');\n",
              "if (notebookContainer) {{\n",
              "    x.observe(notebookContainer, {childList: true});\n",
              "}}\n",
              "\n",
              "// Listen for the clearing of the current output cell\n",
              "var outputEl = gd.closest('.output');\n",
              "if (outputEl) {{\n",
              "    x.observe(outputEl, {childList: true});\n",
              "}}\n",
              "\n",
              "                        })                };                            </script>        </div>\n",
              "</body>\n",
              "</html>"
            ]
          },
          "metadata": {}
        }
      ]
    },
    {
      "cell_type": "markdown",
      "source": [
        "-----------------------------------------------\n",
        "## **Análisis 3**"
      ],
      "metadata": {
        "id": "l3PZaCaKhimV"
      }
    },
    {
      "cell_type": "markdown",
      "source": [
        "### **Planteamiento**"
      ],
      "metadata": {
        "id": "kRDgOxkXhnA1"
      }
    },
    {
      "cell_type": "markdown",
      "source": [
        "**Actividad y pasos**\n",
        "\n",
        "1. Mostrar visualmente a trávez de un gráfico de barras las nacionalidades presentes en los datos.\n",
        "  *   Obtener el número **total** personas de nacionalidad Chilenas, Venezolanas, Bolivianas, Colombianas, Peruanas, Haitianas, Ecuatorianas, Otras, Argentinas (de sexo femenino).\n",
        "  *   Obtener el número **total** personas de nacionalidad Chilenos, Venezolanos, Bolivianos, Colombianos, Peruanos, Haitianos, Ecuatorianos, Otros, Argentinos (de sexo masculino).\n",
        "  *   Incoporar selector por año."
      ],
      "metadata": {
        "id": "YzB5URlghqO2"
      }
    },
    {
      "cell_type": "markdown",
      "source": [
        "### **Procesamiento de los datos**"
      ],
      "metadata": {
        "id": "1XTC6Mbdivsk"
      }
    },
    {
      "cell_type": "markdown",
      "source": [
        "Primero requiero contabilizar la cantidad de mujeres y hombres por nacionalidad, ademas debo tener en cuenta de almacenar el etiquetado para usarlo luego en el gráfico de barras."
      ],
      "metadata": {
        "id": "o5IMdurOszDb"
      }
    },
    {
      "cell_type": "code",
      "source": [
        "# Inicializa listas para almacenar los totales de hombres y mujeres\n",
        "serie_total_masculino_por_nacionalidad = []\n",
        "serie_total_femenino_por_nacionalidad = []\n",
        "\n",
        "# Inicializa listas para almacenar los nombres de las nacionalidades\n",
        "nombres_nacionalidades = []\n",
        "\n",
        "# Recorre el diccionario y los DataFrames\n",
        "for nombre_hoja, dataframe in datos_por_anio.items():\n",
        "    # Calcula el total de hombres y mujeres en el DataFrame actual\n",
        "    total_masculino = (dataframe == 1).sum()\n",
        "    total_femenino = (dataframe == 0).sum()\n",
        "\n",
        "    # Agrega los totales a las listas respectivas\n",
        "    serie_total_masculino_por_nacionalidad.append(total_masculino)\n",
        "    serie_total_femenino_por_nacionalidad.append(total_femenino)\n",
        "\n",
        "    # Agrega los nombres de las columnas (nacionalidades) a la lista de nombres de nacionalidades\n",
        "    nombres_nacionalidades.append(list(dataframe.columns))\n",
        "\n",
        "# Imprime las series de totales\n",
        "#print(\"Serie de totales de hombres por nacionalidad:\", serie_total_masculino_por_nacionalidad)\n",
        "#print(\"Serie de totales de mujeres por nacionalidad:\", serie_total_femenino_por_nacionalidad)\n",
        "\n",
        "# Imprime los nombres de las nacionalidades ; en las series es indice-clave\n",
        "primera_serie = serie_total_masculino_por_nacionalidad[0]\n",
        "#print(\"primera_serie:\", primera_serie)\n",
        "\n",
        "# Obtener los índices de la serie como una lista\n",
        "lista_indices = primera_serie.index.tolist()\n",
        "\n",
        "# Imprimir los índices\n",
        "print(\"lista_indices:\", lista_indices)\n",
        "\n",
        "lista_totales_hombres_por_nacionalidad = []\n",
        "lista_totales_femenino_por_nacionalidad = []\n",
        "# Recorre la serie de totales de hombres por nacionalidad para cada año\n",
        "for serie1 in serie_total_masculino_por_nacionalidad:\n",
        "    # Convierte la serie a una lista y agrega a la lista general\n",
        "    lista_totales_hombres_por_nacionalidad.append(serie1.tolist())\n",
        "\n",
        "# Recorre la serie de totales de hombres por nacionalidad para cada año\n",
        "for serie2 in serie_total_femenino_por_nacionalidad:\n",
        "    # Convierte la serie a una lista y agrega a la lista general\n",
        "    lista_totales_femenino_por_nacionalidad.append(serie2.tolist())\n",
        "\n",
        "print(\"Lista de lista hombres por nacionalidad:\", lista_totales_hombres_por_nacionalidad)\n",
        "print(\"Lista de lista Mujeres por nacionalidad:\", lista_totales_femenino_por_nacionalidad)"
      ],
      "metadata": {
        "colab": {
          "base_uri": "https://localhost:8080/"
        },
        "id": "sZE7lPIZjFQ8",
        "outputId": "6b3e9e8e-f846-4ac5-f139-e9df1dac3765"
      },
      "execution_count": 202,
      "outputs": [
        {
          "output_type": "stream",
          "name": "stdout",
          "text": [
            "lista_indices: ['Chilena', 'Venezolana', 'Boliviana', 'Colombiana', 'Peruana', 'Haitiana', 'Ecuatoriana', 'Otra', 'Argentina']\n",
            "Lista de lista hombres por nacionalidad: [[237, 214, 251, 256, 237, 258, 259, 242, 252], [237, 237, 238, 250, 245, 258, 249, 254, 254], [247, 249, 243, 249, 249, 231, 225, 251, 248]]\n",
            "Lista de lista Mujeres por nacionalidad: [[261, 284, 247, 242, 261, 240, 239, 256, 246], [261, 261, 260, 248, 253, 240, 249, 244, 244], [251, 249, 255, 249, 249, 267, 273, 247, 250]]\n"
          ]
        }
      ]
    },
    {
      "cell_type": "markdown",
      "source": [
        "### **Resultado del análisis**"
      ],
      "metadata": {
        "id": "X6r3w4G4yT5H"
      }
    },
    {
      "cell_type": "markdown",
      "source": [
        "Cantidad de hombres por nacionalidad"
      ],
      "metadata": {
        "id": "UI2wvYo4yYni"
      }
    },
    {
      "cell_type": "code",
      "source": [
        "# Datos para 2021\n",
        "datos_2021 = lista_totales_hombres_por_nacionalidad[0]\n",
        "# Datos para 2022\n",
        "datos_2022 = lista_totales_hombres_por_nacionalidad[1]\n",
        "# Datos para 2023\n",
        "datos_2023 = lista_totales_hombres_por_nacionalidad[2]\n",
        "\n",
        "# Colores para las barras\n",
        "colores = ['blue', 'green', 'orange', 'red', 'purple', 'yellow', 'cyan', 'magenta', 'gray']\n",
        "\n",
        "# Creación de la figura con un gráfico de barras\n",
        "fig = go.Figure(data=[\n",
        "    go.Bar(name='2021', x=lista_indices, y=datos_2021, marker_color=colores, visible = True),\n",
        "    go.Bar(name='2022', x=lista_indices, y=datos_2022, marker_color=colores, visible = False),\n",
        "    go.Bar(name='2023', x=lista_indices, y=datos_2023, marker_color=colores, visible = False)\n",
        "])\n",
        "\n",
        "# Configuración del diseño del gráfico\n",
        "fig.update_layout(\n",
        "    title='Cantidad de hombres por nacionalidad - 2021',\n",
        "    xaxis_title='Nacionalidad',\n",
        "    yaxis_title='Cantidad de Hombres',\n",
        "    barmode='group',\n",
        "    width=800,  # Ancho del gráfico aumentado\n",
        "    height=500,  # Alto del gráfico\n",
        "    title_x=0.5,  # Posición horizontal del título (0.5 es el centro)\n",
        "    title_y=0.9,  # Posición vertical del título (0.9 está más cerca del borde superior)\n",
        "    xaxis=dict(domain=[0.1, 0.9]),  # Ajustar la posición horizontal del gráfico\n",
        ")\n",
        "\n",
        "# Agregar un menú desplegable para cambiar el año\n",
        "fig.update_layout(updatemenus=[dict(active=0,buttons=list([\n",
        "    dict(label=\"2021\",method=\"update\",\n",
        "        args=[{\"visible\": [True, False, False]}, {\"title\": \"Cantidad de hombres por nacionalidad - 2021\"}]),\n",
        "    dict(label=\"2022\",method=\"update\",\n",
        "        args=[{\"visible\": [False, True, False]}, {\"title\": \"Cantidad de hombres por nacionalidad - 2022\"}]),\n",
        "    dict(label=\"2023\",method=\"update\",\n",
        "        args=[{\"visible\": [False, False, True]}, {\"title\": \"Cantidad de hombres por nacionalidad - 2023\"}]),\n",
        "    ]),\n",
        ")])\n",
        "\n",
        "# Mostrar el gráfico\n",
        "fig.show()"
      ],
      "metadata": {
        "colab": {
          "base_uri": "https://localhost:8080/",
          "height": 517
        },
        "id": "QNHsjO7dswuc",
        "outputId": "1126b49c-9190-4c8a-b768-e98a6bea112b"
      },
      "execution_count": 203,
      "outputs": [
        {
          "output_type": "display_data",
          "data": {
            "text/html": [
              "<html>\n",
              "<head><meta charset=\"utf-8\" /></head>\n",
              "<body>\n",
              "    <div>            <script src=\"https://cdnjs.cloudflare.com/ajax/libs/mathjax/2.7.5/MathJax.js?config=TeX-AMS-MML_SVG\"></script><script type=\"text/javascript\">if (window.MathJax && window.MathJax.Hub && window.MathJax.Hub.Config) {window.MathJax.Hub.Config({SVG: {font: \"STIX-Web\"}});}</script>                <script type=\"text/javascript\">window.PlotlyConfig = {MathJaxConfig: 'local'};</script>\n",
              "        <script charset=\"utf-8\" src=\"https://cdn.plot.ly/plotly-2.24.1.min.js\"></script>                <div id=\"2f55ccca-af2f-44d5-9477-14a2a765d902\" class=\"plotly-graph-div\" style=\"height:500px; width:800px;\"></div>            <script type=\"text/javascript\">                                    window.PLOTLYENV=window.PLOTLYENV || {};                                    if (document.getElementById(\"2f55ccca-af2f-44d5-9477-14a2a765d902\")) {                    Plotly.newPlot(                        \"2f55ccca-af2f-44d5-9477-14a2a765d902\",                        [{\"marker\":{\"color\":[\"blue\",\"green\",\"orange\",\"red\",\"purple\",\"yellow\",\"cyan\",\"magenta\",\"gray\"]},\"name\":\"2021\",\"visible\":true,\"x\":[\"Chilena\",\"Venezolana\",\"Boliviana\",\"Colombiana\",\"Peruana\",\"Haitiana\",\"Ecuatoriana\",\"Otra\",\"Argentina\"],\"y\":[237,214,251,256,237,258,259,242,252],\"type\":\"bar\"},{\"marker\":{\"color\":[\"blue\",\"green\",\"orange\",\"red\",\"purple\",\"yellow\",\"cyan\",\"magenta\",\"gray\"]},\"name\":\"2022\",\"visible\":false,\"x\":[\"Chilena\",\"Venezolana\",\"Boliviana\",\"Colombiana\",\"Peruana\",\"Haitiana\",\"Ecuatoriana\",\"Otra\",\"Argentina\"],\"y\":[237,237,238,250,245,258,249,254,254],\"type\":\"bar\"},{\"marker\":{\"color\":[\"blue\",\"green\",\"orange\",\"red\",\"purple\",\"yellow\",\"cyan\",\"magenta\",\"gray\"]},\"name\":\"2023\",\"visible\":false,\"x\":[\"Chilena\",\"Venezolana\",\"Boliviana\",\"Colombiana\",\"Peruana\",\"Haitiana\",\"Ecuatoriana\",\"Otra\",\"Argentina\"],\"y\":[247,249,243,249,249,231,225,251,248],\"type\":\"bar\"}],                        {\"template\":{\"data\":{\"candlestick\":[{\"decreasing\":{\"line\":{\"color\":\"#000033\"}},\"increasing\":{\"line\":{\"color\":\"#000032\"}},\"type\":\"candlestick\"}],\"contourcarpet\":[{\"colorscale\":[[0.0,\"#000011\"],[0.1111111111111111,\"#000012\"],[0.2222222222222222,\"#000013\"],[0.3333333333333333,\"#000014\"],[0.4444444444444444,\"#000015\"],[0.5555555555555556,\"#000016\"],[0.6666666666666666,\"#000017\"],[0.7777777777777778,\"#000018\"],[0.8888888888888888,\"#000019\"],[1.0,\"#000020\"]],\"type\":\"contourcarpet\"}],\"contour\":[{\"colorscale\":[[0.0,\"#000011\"],[0.1111111111111111,\"#000012\"],[0.2222222222222222,\"#000013\"],[0.3333333333333333,\"#000014\"],[0.4444444444444444,\"#000015\"],[0.5555555555555556,\"#000016\"],[0.6666666666666666,\"#000017\"],[0.7777777777777778,\"#000018\"],[0.8888888888888888,\"#000019\"],[1.0,\"#000020\"]],\"type\":\"contour\"}],\"heatmap\":[{\"colorscale\":[[0.0,\"#000011\"],[0.1111111111111111,\"#000012\"],[0.2222222222222222,\"#000013\"],[0.3333333333333333,\"#000014\"],[0.4444444444444444,\"#000015\"],[0.5555555555555556,\"#000016\"],[0.6666666666666666,\"#000017\"],[0.7777777777777778,\"#000018\"],[0.8888888888888888,\"#000019\"],[1.0,\"#000020\"]],\"type\":\"heatmap\"}],\"histogram2d\":[{\"colorscale\":[[0.0,\"#000011\"],[0.1111111111111111,\"#000012\"],[0.2222222222222222,\"#000013\"],[0.3333333333333333,\"#000014\"],[0.4444444444444444,\"#000015\"],[0.5555555555555556,\"#000016\"],[0.6666666666666666,\"#000017\"],[0.7777777777777778,\"#000018\"],[0.8888888888888888,\"#000019\"],[1.0,\"#000020\"]],\"type\":\"histogram2d\"}],\"icicle\":[{\"textfont\":{\"color\":\"white\"},\"type\":\"icicle\"}],\"sankey\":[{\"textfont\":{\"color\":\"#000036\"},\"type\":\"sankey\"}],\"scatter\":[{\"marker\":{\"line\":{\"width\":0}},\"type\":\"scatter\"}],\"table\":[{\"cells\":{\"fill\":{\"color\":\"#000038\"},\"font\":{\"color\":\"#000037\"},\"line\":{\"color\":\"#000039\"}},\"header\":{\"fill\":{\"color\":\"#000040\"},\"font\":{\"color\":\"#000036\"},\"line\":{\"color\":\"#000039\"}},\"type\":\"table\"}],\"waterfall\":[{\"connector\":{\"line\":{\"color\":\"#000036\",\"width\":2}},\"decreasing\":{\"marker\":{\"color\":\"#000033\"}},\"increasing\":{\"marker\":{\"color\":\"#000032\"}},\"totals\":{\"marker\":{\"color\":\"#000034\"}},\"type\":\"waterfall\"}]},\"layout\":{\"coloraxis\":{\"colorscale\":[[0.0,\"#000011\"],[0.1111111111111111,\"#000012\"],[0.2222222222222222,\"#000013\"],[0.3333333333333333,\"#000014\"],[0.4444444444444444,\"#000015\"],[0.5555555555555556,\"#000016\"],[0.6666666666666666,\"#000017\"],[0.7777777777777778,\"#000018\"],[0.8888888888888888,\"#000019\"],[1.0,\"#000020\"]]},\"colorscale\":{\"diverging\":[[0.0,\"#000021\"],[0.1,\"#000022\"],[0.2,\"#000023\"],[0.3,\"#000024\"],[0.4,\"#000025\"],[0.5,\"#000026\"],[0.6,\"#000027\"],[0.7,\"#000028\"],[0.8,\"#000029\"],[0.9,\"#000030\"],[1.0,\"#000031\"]],\"sequential\":[[0.0,\"#000011\"],[0.1111111111111111,\"#000012\"],[0.2222222222222222,\"#000013\"],[0.3333333333333333,\"#000014\"],[0.4444444444444444,\"#000015\"],[0.5555555555555556,\"#000016\"],[0.6666666666666666,\"#000017\"],[0.7777777777777778,\"#000018\"],[0.8888888888888888,\"#000019\"],[1.0,\"#000020\"]],\"sequentialminus\":[[0.0,\"#000011\"],[0.1111111111111111,\"#000012\"],[0.2222222222222222,\"#000013\"],[0.3333333333333333,\"#000014\"],[0.4444444444444444,\"#000015\"],[0.5555555555555556,\"#000016\"],[0.6666666666666666,\"#000017\"],[0.7777777777777778,\"#000018\"],[0.8888888888888888,\"#000019\"],[1.0,\"#000020\"]]},\"colorway\":[\"#000001\",\"#000002\",\"#000003\",\"#000004\",\"#000005\",\"#000006\",\"#000007\",\"#000008\",\"#000009\",\"#000010\"]}},\"title\":{\"text\":\"Cantidad de hombres por nacionalidad - 2021\",\"x\":0.5,\"y\":0.9},\"xaxis\":{\"title\":{\"text\":\"Nacionalidad\"},\"domain\":[0.1,0.9]},\"yaxis\":{\"title\":{\"text\":\"Cantidad de Hombres\"}},\"barmode\":\"group\",\"width\":800,\"height\":500,\"updatemenus\":[{\"active\":0,\"buttons\":[{\"args\":[{\"visible\":[true,false,false]},{\"title\":\"Cantidad de hombres por nacionalidad - 2021\"}],\"label\":\"2021\",\"method\":\"update\"},{\"args\":[{\"visible\":[false,true,false]},{\"title\":\"Cantidad de hombres por nacionalidad - 2022\"}],\"label\":\"2022\",\"method\":\"update\"},{\"args\":[{\"visible\":[false,false,true]},{\"title\":\"Cantidad de hombres por nacionalidad - 2023\"}],\"label\":\"2023\",\"method\":\"update\"}]}]},                        {\"responsive\": true}                    ).then(function(){\n",
              "                            \n",
              "var gd = document.getElementById('2f55ccca-af2f-44d5-9477-14a2a765d902');\n",
              "var x = new MutationObserver(function (mutations, observer) {{\n",
              "        var display = window.getComputedStyle(gd).display;\n",
              "        if (!display || display === 'none') {{\n",
              "            console.log([gd, 'removed!']);\n",
              "            Plotly.purge(gd);\n",
              "            observer.disconnect();\n",
              "        }}\n",
              "}});\n",
              "\n",
              "// Listen for the removal of the full notebook cells\n",
              "var notebookContainer = gd.closest('#notebook-container');\n",
              "if (notebookContainer) {{\n",
              "    x.observe(notebookContainer, {childList: true});\n",
              "}}\n",
              "\n",
              "// Listen for the clearing of the current output cell\n",
              "var outputEl = gd.closest('.output');\n",
              "if (outputEl) {{\n",
              "    x.observe(outputEl, {childList: true});\n",
              "}}\n",
              "\n",
              "                        })                };                            </script>        </div>\n",
              "</body>\n",
              "</html>"
            ]
          },
          "metadata": {}
        }
      ]
    },
    {
      "cell_type": "markdown",
      "source": [
        "Cantidad de mujeres por nacionalidad"
      ],
      "metadata": {
        "id": "DP30nxoNycph"
      }
    },
    {
      "cell_type": "code",
      "source": [
        "# Datos para 2021\n",
        "datos_2021 = lista_totales_hombres_por_nacionalidad[0]\n",
        "# Datos para 2022\n",
        "datos_2022 = lista_totales_hombres_por_nacionalidad[1]\n",
        "# Datos para 2023\n",
        "datos_2023 = lista_totales_hombres_por_nacionalidad[2]\n",
        "\n",
        "# Colores para las barras\n",
        "colores = ['blue', 'green', 'orange', 'red', 'purple', 'yellow', 'cyan', 'magenta', 'gray']\n",
        "\n",
        "# Creación de la figura con un gráfico de barras\n",
        "fig = go.Figure(data=[\n",
        "    go.Bar(name='2021', x=lista_indices, y=datos_2021, marker_color=colores, visible = True),\n",
        "    go.Bar(name='2022', x=lista_indices, y=datos_2022, marker_color=colores, visible = False),\n",
        "    go.Bar(name='2023', x=lista_indices, y=datos_2023, marker_color=colores, visible = False)\n",
        "])\n",
        "\n",
        "# Configuración del diseño del gráfico\n",
        "fig.update_layout(\n",
        "    title='Cantidad de mujeres por nacionalidad - 2021',\n",
        "    xaxis_title='Nacionalidad',\n",
        "    yaxis_title='Cantidad de Mujeres',\n",
        "    barmode='group',\n",
        "    width=800,  # Ancho del gráfico aumentado\n",
        "    height=500,  # Alto del gráfico\n",
        "    title_x=0.5,  # Posición horizontal del título (0.5 es el centro)\n",
        "    title_y=0.9,  # Posición vertical del título (0.9 está más cerca del borde superior)\n",
        "    xaxis=dict(domain=[0.1, 0.9]),  # Ajustar la posición horizontal del gráfico\n",
        ")\n",
        "\n",
        "# Agregar un menú desplegable para cambiar el año\n",
        "fig.update_layout(updatemenus=[dict(active=0,buttons=list([\n",
        "    dict(label=\"2021\",method=\"update\",\n",
        "        args=[{\"visible\": [True, False, False]}, {\"title\": \"Cantidad de mujeres por nacionalidad - 2021\"}]),\n",
        "    dict(label=\"2022\",method=\"update\",\n",
        "        args=[{\"visible\": [False, True, False]}, {\"title\": \"Cantidad de mujeres por nacionalidad - 2022\"}]),\n",
        "    dict(label=\"2023\",method=\"update\",\n",
        "        args=[{\"visible\": [False, False, True]}, {\"title\": \"Cantidad de mujeres por nacionalidad - 2023\"}]),\n",
        "    ]),\n",
        ")])\n",
        "\n",
        "# Mostrar el gráfico\n",
        "fig.show()"
      ],
      "metadata": {
        "colab": {
          "base_uri": "https://localhost:8080/",
          "height": 517
        },
        "id": "OETPiqKSyk8O",
        "outputId": "4fbc4086-550a-4fe0-b8b0-a5e363f76bab"
      },
      "execution_count": 204,
      "outputs": [
        {
          "output_type": "display_data",
          "data": {
            "text/html": [
              "<html>\n",
              "<head><meta charset=\"utf-8\" /></head>\n",
              "<body>\n",
              "    <div>            <script src=\"https://cdnjs.cloudflare.com/ajax/libs/mathjax/2.7.5/MathJax.js?config=TeX-AMS-MML_SVG\"></script><script type=\"text/javascript\">if (window.MathJax && window.MathJax.Hub && window.MathJax.Hub.Config) {window.MathJax.Hub.Config({SVG: {font: \"STIX-Web\"}});}</script>                <script type=\"text/javascript\">window.PlotlyConfig = {MathJaxConfig: 'local'};</script>\n",
              "        <script charset=\"utf-8\" src=\"https://cdn.plot.ly/plotly-2.24.1.min.js\"></script>                <div id=\"067420f5-48bb-4ea3-9f25-9e60bc379aeb\" class=\"plotly-graph-div\" style=\"height:500px; width:800px;\"></div>            <script type=\"text/javascript\">                                    window.PLOTLYENV=window.PLOTLYENV || {};                                    if (document.getElementById(\"067420f5-48bb-4ea3-9f25-9e60bc379aeb\")) {                    Plotly.newPlot(                        \"067420f5-48bb-4ea3-9f25-9e60bc379aeb\",                        [{\"marker\":{\"color\":[\"blue\",\"green\",\"orange\",\"red\",\"purple\",\"yellow\",\"cyan\",\"magenta\",\"gray\"]},\"name\":\"2021\",\"visible\":true,\"x\":[\"Chilena\",\"Venezolana\",\"Boliviana\",\"Colombiana\",\"Peruana\",\"Haitiana\",\"Ecuatoriana\",\"Otra\",\"Argentina\"],\"y\":[237,214,251,256,237,258,259,242,252],\"type\":\"bar\"},{\"marker\":{\"color\":[\"blue\",\"green\",\"orange\",\"red\",\"purple\",\"yellow\",\"cyan\",\"magenta\",\"gray\"]},\"name\":\"2022\",\"visible\":false,\"x\":[\"Chilena\",\"Venezolana\",\"Boliviana\",\"Colombiana\",\"Peruana\",\"Haitiana\",\"Ecuatoriana\",\"Otra\",\"Argentina\"],\"y\":[237,237,238,250,245,258,249,254,254],\"type\":\"bar\"},{\"marker\":{\"color\":[\"blue\",\"green\",\"orange\",\"red\",\"purple\",\"yellow\",\"cyan\",\"magenta\",\"gray\"]},\"name\":\"2023\",\"visible\":false,\"x\":[\"Chilena\",\"Venezolana\",\"Boliviana\",\"Colombiana\",\"Peruana\",\"Haitiana\",\"Ecuatoriana\",\"Otra\",\"Argentina\"],\"y\":[247,249,243,249,249,231,225,251,248],\"type\":\"bar\"}],                        {\"template\":{\"data\":{\"candlestick\":[{\"decreasing\":{\"line\":{\"color\":\"#000033\"}},\"increasing\":{\"line\":{\"color\":\"#000032\"}},\"type\":\"candlestick\"}],\"contourcarpet\":[{\"colorscale\":[[0.0,\"#000011\"],[0.1111111111111111,\"#000012\"],[0.2222222222222222,\"#000013\"],[0.3333333333333333,\"#000014\"],[0.4444444444444444,\"#000015\"],[0.5555555555555556,\"#000016\"],[0.6666666666666666,\"#000017\"],[0.7777777777777778,\"#000018\"],[0.8888888888888888,\"#000019\"],[1.0,\"#000020\"]],\"type\":\"contourcarpet\"}],\"contour\":[{\"colorscale\":[[0.0,\"#000011\"],[0.1111111111111111,\"#000012\"],[0.2222222222222222,\"#000013\"],[0.3333333333333333,\"#000014\"],[0.4444444444444444,\"#000015\"],[0.5555555555555556,\"#000016\"],[0.6666666666666666,\"#000017\"],[0.7777777777777778,\"#000018\"],[0.8888888888888888,\"#000019\"],[1.0,\"#000020\"]],\"type\":\"contour\"}],\"heatmap\":[{\"colorscale\":[[0.0,\"#000011\"],[0.1111111111111111,\"#000012\"],[0.2222222222222222,\"#000013\"],[0.3333333333333333,\"#000014\"],[0.4444444444444444,\"#000015\"],[0.5555555555555556,\"#000016\"],[0.6666666666666666,\"#000017\"],[0.7777777777777778,\"#000018\"],[0.8888888888888888,\"#000019\"],[1.0,\"#000020\"]],\"type\":\"heatmap\"}],\"histogram2d\":[{\"colorscale\":[[0.0,\"#000011\"],[0.1111111111111111,\"#000012\"],[0.2222222222222222,\"#000013\"],[0.3333333333333333,\"#000014\"],[0.4444444444444444,\"#000015\"],[0.5555555555555556,\"#000016\"],[0.6666666666666666,\"#000017\"],[0.7777777777777778,\"#000018\"],[0.8888888888888888,\"#000019\"],[1.0,\"#000020\"]],\"type\":\"histogram2d\"}],\"icicle\":[{\"textfont\":{\"color\":\"white\"},\"type\":\"icicle\"}],\"sankey\":[{\"textfont\":{\"color\":\"#000036\"},\"type\":\"sankey\"}],\"scatter\":[{\"marker\":{\"line\":{\"width\":0}},\"type\":\"scatter\"}],\"table\":[{\"cells\":{\"fill\":{\"color\":\"#000038\"},\"font\":{\"color\":\"#000037\"},\"line\":{\"color\":\"#000039\"}},\"header\":{\"fill\":{\"color\":\"#000040\"},\"font\":{\"color\":\"#000036\"},\"line\":{\"color\":\"#000039\"}},\"type\":\"table\"}],\"waterfall\":[{\"connector\":{\"line\":{\"color\":\"#000036\",\"width\":2}},\"decreasing\":{\"marker\":{\"color\":\"#000033\"}},\"increasing\":{\"marker\":{\"color\":\"#000032\"}},\"totals\":{\"marker\":{\"color\":\"#000034\"}},\"type\":\"waterfall\"}]},\"layout\":{\"coloraxis\":{\"colorscale\":[[0.0,\"#000011\"],[0.1111111111111111,\"#000012\"],[0.2222222222222222,\"#000013\"],[0.3333333333333333,\"#000014\"],[0.4444444444444444,\"#000015\"],[0.5555555555555556,\"#000016\"],[0.6666666666666666,\"#000017\"],[0.7777777777777778,\"#000018\"],[0.8888888888888888,\"#000019\"],[1.0,\"#000020\"]]},\"colorscale\":{\"diverging\":[[0.0,\"#000021\"],[0.1,\"#000022\"],[0.2,\"#000023\"],[0.3,\"#000024\"],[0.4,\"#000025\"],[0.5,\"#000026\"],[0.6,\"#000027\"],[0.7,\"#000028\"],[0.8,\"#000029\"],[0.9,\"#000030\"],[1.0,\"#000031\"]],\"sequential\":[[0.0,\"#000011\"],[0.1111111111111111,\"#000012\"],[0.2222222222222222,\"#000013\"],[0.3333333333333333,\"#000014\"],[0.4444444444444444,\"#000015\"],[0.5555555555555556,\"#000016\"],[0.6666666666666666,\"#000017\"],[0.7777777777777778,\"#000018\"],[0.8888888888888888,\"#000019\"],[1.0,\"#000020\"]],\"sequentialminus\":[[0.0,\"#000011\"],[0.1111111111111111,\"#000012\"],[0.2222222222222222,\"#000013\"],[0.3333333333333333,\"#000014\"],[0.4444444444444444,\"#000015\"],[0.5555555555555556,\"#000016\"],[0.6666666666666666,\"#000017\"],[0.7777777777777778,\"#000018\"],[0.8888888888888888,\"#000019\"],[1.0,\"#000020\"]]},\"colorway\":[\"#000001\",\"#000002\",\"#000003\",\"#000004\",\"#000005\",\"#000006\",\"#000007\",\"#000008\",\"#000009\",\"#000010\"]}},\"title\":{\"text\":\"Cantidad de mujeres por nacionalidad - 2021\",\"x\":0.5,\"y\":0.9},\"xaxis\":{\"title\":{\"text\":\"Nacionalidad\"},\"domain\":[0.1,0.9]},\"yaxis\":{\"title\":{\"text\":\"Cantidad de Mujeres\"}},\"barmode\":\"group\",\"width\":800,\"height\":500,\"updatemenus\":[{\"active\":0,\"buttons\":[{\"args\":[{\"visible\":[true,false,false]},{\"title\":\"Cantidad de mujeres por nacionalidad - 2021\"}],\"label\":\"2021\",\"method\":\"update\"},{\"args\":[{\"visible\":[false,true,false]},{\"title\":\"Cantidad de mujeres por nacionalidad - 2022\"}],\"label\":\"2022\",\"method\":\"update\"},{\"args\":[{\"visible\":[false,false,true]},{\"title\":\"Cantidad de mujeres por nacionalidad - 2023\"}],\"label\":\"2023\",\"method\":\"update\"}]}]},                        {\"responsive\": true}                    ).then(function(){\n",
              "                            \n",
              "var gd = document.getElementById('067420f5-48bb-4ea3-9f25-9e60bc379aeb');\n",
              "var x = new MutationObserver(function (mutations, observer) {{\n",
              "        var display = window.getComputedStyle(gd).display;\n",
              "        if (!display || display === 'none') {{\n",
              "            console.log([gd, 'removed!']);\n",
              "            Plotly.purge(gd);\n",
              "            observer.disconnect();\n",
              "        }}\n",
              "}});\n",
              "\n",
              "// Listen for the removal of the full notebook cells\n",
              "var notebookContainer = gd.closest('#notebook-container');\n",
              "if (notebookContainer) {{\n",
              "    x.observe(notebookContainer, {childList: true});\n",
              "}}\n",
              "\n",
              "// Listen for the clearing of the current output cell\n",
              "var outputEl = gd.closest('.output');\n",
              "if (outputEl) {{\n",
              "    x.observe(outputEl, {childList: true});\n",
              "}}\n",
              "\n",
              "                        })                };                            </script>        </div>\n",
              "</body>\n",
              "</html>"
            ]
          },
          "metadata": {}
        }
      ]
    },
    {
      "cell_type": "markdown",
      "source": [
        "# **Cierre**"
      ],
      "metadata": {
        "id": "F62Tqr-j49Ev"
      }
    }
  ]
}